{
 "cells": [
  {
   "cell_type": "markdown",
   "id": "5776e9ac",
   "metadata": {},
   "source": [
    "# Problem 1: Linear Regression"
   ]
  },
  {
   "cell_type": "markdown",
   "id": "f6d6f759",
   "metadata": {},
   "source": [
    "**1.1) Read the data and do exploratory data analysis. Describe the data briefly. (Check the null values, data types, shape, EDA). Perform Univariate and Bivariate Analysis.**"
   ]
  },
  {
   "cell_type": "code",
   "execution_count": 120,
   "id": "c1cea26c",
   "metadata": {},
   "outputs": [],
   "source": [
    "import pandas as pd\n",
    "import seaborn as sns\n",
    "import matplotlib.pyplot as plt\n",
    "import numpy as np\n",
    "\n",
    "\n",
    "# Load the dataset\n",
    "data = pd.read_csv('Firm_level_data.csv')"
   ]
  },
  {
   "cell_type": "code",
   "execution_count": 121,
   "id": "f4f63786",
   "metadata": {},
   "outputs": [
    {
     "data": {
      "text/html": [
       "<div>\n",
       "<style scoped>\n",
       "    .dataframe tbody tr th:only-of-type {\n",
       "        vertical-align: middle;\n",
       "    }\n",
       "\n",
       "    .dataframe tbody tr th {\n",
       "        vertical-align: top;\n",
       "    }\n",
       "\n",
       "    .dataframe thead th {\n",
       "        text-align: right;\n",
       "    }\n",
       "</style>\n",
       "<table border=\"1\" class=\"dataframe\">\n",
       "  <thead>\n",
       "    <tr style=\"text-align: right;\">\n",
       "      <th></th>\n",
       "      <th>firm_id</th>\n",
       "      <th>sales</th>\n",
       "      <th>capital</th>\n",
       "      <th>patents</th>\n",
       "      <th>randd</th>\n",
       "      <th>employment</th>\n",
       "      <th>sp500</th>\n",
       "      <th>tobinq</th>\n",
       "      <th>value</th>\n",
       "      <th>institutions</th>\n",
       "    </tr>\n",
       "  </thead>\n",
       "  <tbody>\n",
       "    <tr>\n",
       "      <th>0</th>\n",
       "      <td>0</td>\n",
       "      <td>826.995050</td>\n",
       "      <td>161.603986</td>\n",
       "      <td>10</td>\n",
       "      <td>382.078247</td>\n",
       "      <td>2.306000</td>\n",
       "      <td>no</td>\n",
       "      <td>11.049511</td>\n",
       "      <td>1625.453755</td>\n",
       "      <td>80.27</td>\n",
       "    </tr>\n",
       "    <tr>\n",
       "      <th>1</th>\n",
       "      <td>1</td>\n",
       "      <td>407.753973</td>\n",
       "      <td>122.101012</td>\n",
       "      <td>2</td>\n",
       "      <td>0.000000</td>\n",
       "      <td>1.860000</td>\n",
       "      <td>no</td>\n",
       "      <td>0.844187</td>\n",
       "      <td>243.117082</td>\n",
       "      <td>59.02</td>\n",
       "    </tr>\n",
       "    <tr>\n",
       "      <th>2</th>\n",
       "      <td>2</td>\n",
       "      <td>8407.845588</td>\n",
       "      <td>6221.144614</td>\n",
       "      <td>138</td>\n",
       "      <td>3296.700439</td>\n",
       "      <td>49.659005</td>\n",
       "      <td>yes</td>\n",
       "      <td>5.205257</td>\n",
       "      <td>25865.233800</td>\n",
       "      <td>47.70</td>\n",
       "    </tr>\n",
       "    <tr>\n",
       "      <th>3</th>\n",
       "      <td>3</td>\n",
       "      <td>451.000010</td>\n",
       "      <td>266.899987</td>\n",
       "      <td>1</td>\n",
       "      <td>83.540161</td>\n",
       "      <td>3.071000</td>\n",
       "      <td>no</td>\n",
       "      <td>0.305221</td>\n",
       "      <td>63.024630</td>\n",
       "      <td>26.88</td>\n",
       "    </tr>\n",
       "    <tr>\n",
       "      <th>4</th>\n",
       "      <td>4</td>\n",
       "      <td>174.927981</td>\n",
       "      <td>140.124004</td>\n",
       "      <td>2</td>\n",
       "      <td>14.233637</td>\n",
       "      <td>1.947000</td>\n",
       "      <td>no</td>\n",
       "      <td>1.063300</td>\n",
       "      <td>67.406408</td>\n",
       "      <td>49.46</td>\n",
       "    </tr>\n",
       "    <tr>\n",
       "      <th>...</th>\n",
       "      <td>...</td>\n",
       "      <td>...</td>\n",
       "      <td>...</td>\n",
       "      <td>...</td>\n",
       "      <td>...</td>\n",
       "      <td>...</td>\n",
       "      <td>...</td>\n",
       "      <td>...</td>\n",
       "      <td>...</td>\n",
       "      <td>...</td>\n",
       "    </tr>\n",
       "    <tr>\n",
       "      <th>754</th>\n",
       "      <td>754</td>\n",
       "      <td>1253.900196</td>\n",
       "      <td>708.299935</td>\n",
       "      <td>32</td>\n",
       "      <td>412.936157</td>\n",
       "      <td>22.100002</td>\n",
       "      <td>yes</td>\n",
       "      <td>0.697454</td>\n",
       "      <td>267.119487</td>\n",
       "      <td>33.50</td>\n",
       "    </tr>\n",
       "    <tr>\n",
       "      <th>755</th>\n",
       "      <td>755</td>\n",
       "      <td>171.821025</td>\n",
       "      <td>73.666008</td>\n",
       "      <td>1</td>\n",
       "      <td>0.037735</td>\n",
       "      <td>1.684000</td>\n",
       "      <td>no</td>\n",
       "      <td>NaN</td>\n",
       "      <td>228.475701</td>\n",
       "      <td>46.41</td>\n",
       "    </tr>\n",
       "    <tr>\n",
       "      <th>756</th>\n",
       "      <td>756</td>\n",
       "      <td>202.726967</td>\n",
       "      <td>123.926991</td>\n",
       "      <td>13</td>\n",
       "      <td>74.861099</td>\n",
       "      <td>1.460000</td>\n",
       "      <td>no</td>\n",
       "      <td>5.229723</td>\n",
       "      <td>580.430741</td>\n",
       "      <td>42.25</td>\n",
       "    </tr>\n",
       "    <tr>\n",
       "      <th>757</th>\n",
       "      <td>757</td>\n",
       "      <td>785.687944</td>\n",
       "      <td>138.780992</td>\n",
       "      <td>6</td>\n",
       "      <td>0.621750</td>\n",
       "      <td>2.900000</td>\n",
       "      <td>yes</td>\n",
       "      <td>1.625398</td>\n",
       "      <td>309.938651</td>\n",
       "      <td>61.39</td>\n",
       "    </tr>\n",
       "    <tr>\n",
       "      <th>758</th>\n",
       "      <td>758</td>\n",
       "      <td>22.701999</td>\n",
       "      <td>14.244999</td>\n",
       "      <td>5</td>\n",
       "      <td>18.574360</td>\n",
       "      <td>0.197000</td>\n",
       "      <td>no</td>\n",
       "      <td>2.213070</td>\n",
       "      <td>18.940140</td>\n",
       "      <td>7.50</td>\n",
       "    </tr>\n",
       "  </tbody>\n",
       "</table>\n",
       "<p>759 rows × 10 columns</p>\n",
       "</div>"
      ],
      "text/plain": [
       "     firm_id        sales      capital  patents        randd  employment  \\\n",
       "0          0   826.995050   161.603986       10   382.078247    2.306000   \n",
       "1          1   407.753973   122.101012        2     0.000000    1.860000   \n",
       "2          2  8407.845588  6221.144614      138  3296.700439   49.659005   \n",
       "3          3   451.000010   266.899987        1    83.540161    3.071000   \n",
       "4          4   174.927981   140.124004        2    14.233637    1.947000   \n",
       "..       ...          ...          ...      ...          ...         ...   \n",
       "754      754  1253.900196   708.299935       32   412.936157   22.100002   \n",
       "755      755   171.821025    73.666008        1     0.037735    1.684000   \n",
       "756      756   202.726967   123.926991       13    74.861099    1.460000   \n",
       "757      757   785.687944   138.780992        6     0.621750    2.900000   \n",
       "758      758    22.701999    14.244999        5    18.574360    0.197000   \n",
       "\n",
       "    sp500     tobinq         value  institutions  \n",
       "0      no  11.049511   1625.453755         80.27  \n",
       "1      no   0.844187    243.117082         59.02  \n",
       "2     yes   5.205257  25865.233800         47.70  \n",
       "3      no   0.305221     63.024630         26.88  \n",
       "4      no   1.063300     67.406408         49.46  \n",
       "..    ...        ...           ...           ...  \n",
       "754   yes   0.697454    267.119487         33.50  \n",
       "755    no        NaN    228.475701         46.41  \n",
       "756    no   5.229723    580.430741         42.25  \n",
       "757   yes   1.625398    309.938651         61.39  \n",
       "758    no   2.213070     18.940140          7.50  \n",
       "\n",
       "[759 rows x 10 columns]"
      ]
     },
     "execution_count": 121,
     "metadata": {},
     "output_type": "execute_result"
    }
   ],
   "source": [
    "# Show Sample data\n",
    "data"
   ]
  },
  {
   "cell_type": "markdown",
   "id": "c6c4253b",
   "metadata": {},
   "source": [
    "### Data Dictionary"
   ]
  },
  {
   "cell_type": "markdown",
   "id": "7b22192c",
   "metadata": {},
   "source": [
    "**The dataset contain information related to various factors of companies. \n",
    "Each factor is associated with different variables. Here's a summary of the variables in the data set:\n",
    "\n",
    "   - firm_id: Unique identifier of a firm and its a running number between 0 and 758\n",
    "    - sales: Sales of companies measured in millions of dollars.\n",
    "    - capital: Net stock of property, plant, and equipment.\n",
    "    - patents: Number of granted patents.\n",
    "    - randd: Research and Development (R&D) stock measured in millions of dollars.\n",
    "    - employment: Employment level measured in thousands.\n",
    "    - sp500: Membership of firms in the S&P 500 index, which represents the stock performance of 500 large companies listed on US stock exchanges.\n",
    "    - tobinq: Tobin's q ratio, which compares the market value of a physical asset to its replacement value.\n",
    "    - value: Stock market value.\n",
    "    - institutions: Proportion of stock owned by institutions.\n",
    "\n",
    "**These variables can be used to analyze and understand various aspects of companies, such as their financial performance, research and development activities, market value, and ownership structure.**"
   ]
  },
  {
   "cell_type": "markdown",
   "id": "83410aa9",
   "metadata": {},
   "source": [
    "**Drop Firm_id column**"
   ]
  },
  {
   "cell_type": "code",
   "execution_count": 122,
   "id": "79351981",
   "metadata": {},
   "outputs": [],
   "source": [
    "data.drop(\"firm_id\",inplace=True, axis=1)"
   ]
  },
  {
   "cell_type": "code",
   "execution_count": 123,
   "id": "cfdcfd67",
   "metadata": {},
   "outputs": [
    {
     "name": "stdout",
     "output_type": "stream",
     "text": [
      "Data shape: (759, 9)\n"
     ]
    }
   ],
   "source": [
    "# Get the shape of the dataset\n",
    "data_shape = data.shape\n",
    "print(\"Data shape:\", data_shape)"
   ]
  },
  {
   "cell_type": "code",
   "execution_count": 124,
   "id": "1fdc8d4d",
   "metadata": {},
   "outputs": [
    {
     "name": "stdout",
     "output_type": "stream",
     "text": [
      "Null values:\n",
      " sales            0\n",
      "capital          0\n",
      "patents          0\n",
      "randd            0\n",
      "employment       0\n",
      "sp500            0\n",
      "tobinq          21\n",
      "value            0\n",
      "institutions     0\n",
      "dtype: int64\n"
     ]
    }
   ],
   "source": [
    "# Check for null values\n",
    "null_values = data.isnull().sum()\n",
    "print(\"Null values:\\n\", null_values)"
   ]
  },
  {
   "cell_type": "markdown",
   "id": "18867c26",
   "metadata": {},
   "source": [
    "**Inference / Insight**\n",
    "- The dataset has 9 features and 758 obsevations, of which only \"tobinq\" feature has null values / missing values, the % of missing values is 2.8%, which can be imputed using MEAN IMPUTATION method prior to model building excercise**"
   ]
  },
  {
   "cell_type": "code",
   "execution_count": 125,
   "id": "b2252412",
   "metadata": {},
   "outputs": [
    {
     "name": "stdout",
     "output_type": "stream",
     "text": [
      "Data types:\n",
      " sales           float64\n",
      "capital         float64\n",
      "patents           int64\n",
      "randd           float64\n",
      "employment      float64\n",
      "sp500            object\n",
      "tobinq          float64\n",
      "value           float64\n",
      "institutions    float64\n",
      "dtype: object\n"
     ]
    }
   ],
   "source": [
    "# Check data types\n",
    "data_types = data.dtypes\n",
    "print(\"Data types:\\n\",data_types)"
   ]
  },
  {
   "cell_type": "markdown",
   "id": "9eeec357",
   "metadata": {},
   "source": [
    "**Inference / Insight**\n",
    "- The dataset contains mix of different data types and it has 7 float, 1 int and 1 object data type"
   ]
  },
  {
   "cell_type": "code",
   "execution_count": 126,
   "id": "b44bcb80",
   "metadata": {},
   "outputs": [
    {
     "data": {
      "text/html": [
       "<div>\n",
       "<style scoped>\n",
       "    .dataframe tbody tr th:only-of-type {\n",
       "        vertical-align: middle;\n",
       "    }\n",
       "\n",
       "    .dataframe tbody tr th {\n",
       "        vertical-align: top;\n",
       "    }\n",
       "\n",
       "    .dataframe thead th {\n",
       "        text-align: right;\n",
       "    }\n",
       "</style>\n",
       "<table border=\"1\" class=\"dataframe\">\n",
       "  <thead>\n",
       "    <tr style=\"text-align: right;\">\n",
       "      <th></th>\n",
       "      <th>sales</th>\n",
       "      <th>capital</th>\n",
       "      <th>patents</th>\n",
       "      <th>randd</th>\n",
       "      <th>employment</th>\n",
       "      <th>tobinq</th>\n",
       "      <th>value</th>\n",
       "      <th>institutions</th>\n",
       "    </tr>\n",
       "  </thead>\n",
       "  <tbody>\n",
       "    <tr>\n",
       "      <th>count</th>\n",
       "      <td>759.000000</td>\n",
       "      <td>759.000000</td>\n",
       "      <td>759.000000</td>\n",
       "      <td>759.000000</td>\n",
       "      <td>759.000000</td>\n",
       "      <td>738.000000</td>\n",
       "      <td>759.000000</td>\n",
       "      <td>759.000000</td>\n",
       "    </tr>\n",
       "    <tr>\n",
       "      <th>mean</th>\n",
       "      <td>2689.705158</td>\n",
       "      <td>1977.747498</td>\n",
       "      <td>25.831357</td>\n",
       "      <td>439.938074</td>\n",
       "      <td>14.164519</td>\n",
       "      <td>2.794910</td>\n",
       "      <td>2732.734750</td>\n",
       "      <td>43.020540</td>\n",
       "    </tr>\n",
       "    <tr>\n",
       "      <th>std</th>\n",
       "      <td>8722.060124</td>\n",
       "      <td>6466.704896</td>\n",
       "      <td>97.259577</td>\n",
       "      <td>2007.397588</td>\n",
       "      <td>43.321443</td>\n",
       "      <td>3.366591</td>\n",
       "      <td>7071.072362</td>\n",
       "      <td>21.685586</td>\n",
       "    </tr>\n",
       "    <tr>\n",
       "      <th>min</th>\n",
       "      <td>0.138000</td>\n",
       "      <td>0.057000</td>\n",
       "      <td>0.000000</td>\n",
       "      <td>0.000000</td>\n",
       "      <td>0.006000</td>\n",
       "      <td>0.119001</td>\n",
       "      <td>1.971053</td>\n",
       "      <td>0.000000</td>\n",
       "    </tr>\n",
       "    <tr>\n",
       "      <th>25%</th>\n",
       "      <td>122.920000</td>\n",
       "      <td>52.650501</td>\n",
       "      <td>1.000000</td>\n",
       "      <td>4.628262</td>\n",
       "      <td>0.927500</td>\n",
       "      <td>1.018783</td>\n",
       "      <td>103.593946</td>\n",
       "      <td>25.395000</td>\n",
       "    </tr>\n",
       "    <tr>\n",
       "      <th>50%</th>\n",
       "      <td>448.577082</td>\n",
       "      <td>202.179023</td>\n",
       "      <td>3.000000</td>\n",
       "      <td>36.864136</td>\n",
       "      <td>2.924000</td>\n",
       "      <td>1.680303</td>\n",
       "      <td>410.793529</td>\n",
       "      <td>44.110000</td>\n",
       "    </tr>\n",
       "    <tr>\n",
       "      <th>75%</th>\n",
       "      <td>1822.547366</td>\n",
       "      <td>1075.790020</td>\n",
       "      <td>11.500000</td>\n",
       "      <td>143.253403</td>\n",
       "      <td>10.050001</td>\n",
       "      <td>3.139309</td>\n",
       "      <td>2054.160386</td>\n",
       "      <td>60.510000</td>\n",
       "    </tr>\n",
       "    <tr>\n",
       "      <th>max</th>\n",
       "      <td>135696.788200</td>\n",
       "      <td>93625.200560</td>\n",
       "      <td>1220.000000</td>\n",
       "      <td>30425.255860</td>\n",
       "      <td>710.799925</td>\n",
       "      <td>20.000000</td>\n",
       "      <td>95191.591160</td>\n",
       "      <td>90.150000</td>\n",
       "    </tr>\n",
       "  </tbody>\n",
       "</table>\n",
       "</div>"
      ],
      "text/plain": [
       "               sales       capital      patents         randd  employment  \\\n",
       "count     759.000000    759.000000   759.000000    759.000000  759.000000   \n",
       "mean     2689.705158   1977.747498    25.831357    439.938074   14.164519   \n",
       "std      8722.060124   6466.704896    97.259577   2007.397588   43.321443   \n",
       "min         0.138000      0.057000     0.000000      0.000000    0.006000   \n",
       "25%       122.920000     52.650501     1.000000      4.628262    0.927500   \n",
       "50%       448.577082    202.179023     3.000000     36.864136    2.924000   \n",
       "75%      1822.547366   1075.790020    11.500000    143.253403   10.050001   \n",
       "max    135696.788200  93625.200560  1220.000000  30425.255860  710.799925   \n",
       "\n",
       "           tobinq         value  institutions  \n",
       "count  738.000000    759.000000    759.000000  \n",
       "mean     2.794910   2732.734750     43.020540  \n",
       "std      3.366591   7071.072362     21.685586  \n",
       "min      0.119001      1.971053      0.000000  \n",
       "25%      1.018783    103.593946     25.395000  \n",
       "50%      1.680303    410.793529     44.110000  \n",
       "75%      3.139309   2054.160386     60.510000  \n",
       "max     20.000000  95191.591160     90.150000  "
      ]
     },
     "execution_count": 126,
     "metadata": {},
     "output_type": "execute_result"
    }
   ],
   "source": [
    "# Summary statistics\n",
    "data.describe()"
   ]
  },
  {
   "cell_type": "markdown",
   "id": "94c60100",
   "metadata": {},
   "source": [
    "**Inference / Insight**\n",
    "- The average sales is 2689 and median sales values is 448, it shows that there are outlairs in this feature and it has to be imputed prior to model building excercise\n",
    "- Similerly we could see outlairs in capital, patents, randd, employment and value features which need outleir treatment and we can consider IQR (Inter quartile range) method for imputing these features\n"
   ]
  },
  {
   "cell_type": "markdown",
   "id": "8ea6cc38",
   "metadata": {},
   "source": [
    "### # Univariate Analysis"
   ]
  },
  {
   "cell_type": "code",
   "execution_count": 127,
   "id": "f14ac9fa",
   "metadata": {},
   "outputs": [
    {
     "data": {
      "image/png": "[encoded data removed]",
      "text/plain": [
       "<Figure size 432x288 with 1 Axes>"
      ]
     },
     "metadata": {
      "needs_background": "light"
     },
     "output_type": "display_data"
    }
   ],
   "source": [
    "# Univariate Analysis\n",
    "data['sales'].hist()\n",
    "plt.xlabel('Sales (in millions of dollars)')\n",
    "plt.ylabel('Frequency')\n",
    "plt.title('Histogram of Sales')\n",
    "plt.show()"
   ]
  },
  {
   "cell_type": "markdown",
   "id": "25fb3c77",
   "metadata": {},
   "source": [
    "**Based on the given range of values for the 'sales' feature (ranging from 0.13 to 135,696.7882), here are some inferences we can make:**\n",
    "\n",
    "- 1. Sales Variation: The sales data exhibits a wide variation, spanning several orders of magnitude. This indicates that the dataset includes companies with varying levels of sales, from relatively low values (0.13) to very high values (135,696.7882).\n",
    "\n",
    "- 2. Diverse Company Sizes: The range suggests the presence of both smaller companies with lower sales figures and larger companies with significantly higher sales. This indicates that the dataset covers a diverse range of company sizes.\n",
    "\n",
    "- 3. Outliers: Since the maximum value is significantly higher than the majority of the data, it is likely that there are a few extreme outliers in the dataset. These outliers may represent companies with exceptional sales performance.\n",
    "\n",
    "- 4. Skewness: The distribution of the 'sales' feature might be right-skewed. This is because the maximum value is much higher than the mean and median values. It implies that a few companies may have exceptionally high sales, pulling the average towards higher values.\n",
    "\n",
    "- 5. Potential Influential Factors: Considering the wide range of sales values, it may be interesting to investigate potential factors that contribute to the high sales figures of certain companies. Variables such as capital, research and development (R&D) stock, or stock market value might be worth exploring to understand their relationships with sales.\n",
    "\n",
    "- 6. Scaling Considerations: Due to the significant difference in the magnitude of sales values, it might be beneficial to apply data scaling techniques (e.g., normalization or standardization) before performing certain analyses or modeling tasks to ensure the fair treatment of different features.\n",
    "\n",
    "**These inferences provide a preliminary understanding of the 'sales' feature in the dataset. However, further analysis and exploration are recommended to gain deeper insights and draw more specific conclusions based on the context and objectives of  study.**"
   ]
  },
  {
   "cell_type": "code",
   "execution_count": 128,
   "id": "aef30678",
   "metadata": {},
   "outputs": [
    {
     "data": {
      "image/png": "[encoded data removed]",
      "text/plain": [
       "<Figure size 432x288 with 1 Axes>"
      ]
     },
     "metadata": {
      "needs_background": "light"
     },
     "output_type": "display_data"
    }
   ],
   "source": [
    "data['capital'].hist()\n",
    "plt.xlabel('capital (in millions of dollars)')\n",
    "plt.ylabel('Frequency')\n",
    "plt.title('Histogram of capital')\n",
    "plt.show()"
   ]
  },
  {
   "cell_type": "markdown",
   "id": "9441d64a",
   "metadata": {},
   "source": [
    "Based on the given range of values for the 'capital' feature (ranging from 0.57 to 93,625.20056), here are some inferences we can make:\n",
    "\n",
    "1. Capital Investment: The 'capital' feature represents the net stock of property, plant, and equipment for companies. The range of values suggests that companies in the dataset have made capital investments ranging from relatively low values (0.57) to significantly higher values (93,625.20056).\n",
    "\n",
    "2. Varying Levels of Asset Ownership: The wide range indicates that companies have different levels of ownership in terms of property, plant, and equipment. Some companies might have minimal capital investments, while others have made substantial investments, indicating a varied asset base.\n",
    "\n",
    "3. Outliers: Similar to the 'sales' feature, it is likely that there are outliers in the 'capital' feature as well. Outliers may represent companies with exceptionally high net stock of property, plant, and equipment.\n",
    "\n",
    "4. Skewness: The distribution of the 'capital' feature may also be right-skewed, as the maximum value is significantly higher than the mean and median values. This suggests that a few companies may have made extensive capital investments, causing the average to be pulled towards higher values.\n",
    "\n",
    "5. Relationship with Sales: There might be a potential relationship between the 'capital' feature and the 'sales' feature. Companies with higher capital investments may have the potential to generate higher sales. Exploring the correlation or relationship between these two variables could provide insights into the capital efficiency and revenue generation of companies.\n",
    "\n",
    "6. Scaling Considerations: Similar to the 'sales' feature, due to the significant difference in the magnitude of 'capital' values, it might be beneficial to apply data scaling techniques before performing certain analyses or modeling tasks to ensure fair treatment of different features.\n",
    "\n",
    "These inferences provide a preliminary understanding of the 'capital' feature in the dataset. However, further analysis and exploration are recommended to gain deeper insights and draw more specific conclusions."
   ]
  },
  {
   "cell_type": "code",
   "execution_count": 129,
   "id": "0f9c1b3f",
   "metadata": {},
   "outputs": [
    {
     "data": {
      "image/png": "[encoded data removed]",
      "text/plain": [
       "<Figure size 432x288 with 1 Axes>"
      ]
     },
     "metadata": {
      "needs_background": "light"
     },
     "output_type": "display_data"
    }
   ],
   "source": [
    "data['randd'].hist()\n",
    "plt.xlabel('R & D spent (in millions of dollars)')\n",
    "plt.ylabel('Frequency')\n",
    "plt.title('Histogram of R&D')\n",
    "plt.show()"
   ]
  },
  {
   "cell_type": "markdown",
   "id": "7e8aba1e",
   "metadata": {},
   "source": [
    "Based on the provided mean and median values for the 'randd' feature (mean = 439.938074, median = 36.864136), here are some business inferences we can make:\n",
    "\n",
    "1. Skewed Distribution: The 'randd' feature exhibits a right-skewed distribution as the mean (439.938074) is significantly higher than the median (36.864136). This indicates that there are a few companies with exceptionally high R&D stocks, pulling the average towards higher values.\n",
    "\n",
    "2. R&D Investment: The 'randd' feature represents the R&D stock of companies. The higher mean value suggests that, on average, companies in the dataset have relatively substantial investments in research and development. This indicates a focus on innovation and technological advancements within these companies.\n",
    "\n",
    "3. Variation in R&D Investments: The wide gap between the mean and median values suggests significant variation in R&D investments across companies. While the median value represents the typical or median level of R&D investment, the presence of high-value outliers indicates the existence of companies with extensive R&D budgets.\n",
    "\n",
    "4. Importance of Innovation: The higher mean value implies that R&D is considered an essential aspect of business strategy within the dataset. Companies with higher R&D investments may be more focused on innovation and developing new products, technologies, or services.\n",
    "\n",
    "5. Competitive Advantage: Companies with higher R&D stocks may have a competitive advantage over their competitors in terms of technological advancements and product development. This can contribute to their market position and potential for growth.\n",
    "\n",
    "6. Potential Business Opportunities: Identifying companies with exceptionally high R&D stocks can provide opportunities for collaboration, partnerships, or investment in innovative and research-driven enterprises.\n",
    "\n",
    "7. Comparing R&D with Other Variables: To gain deeper insights, it would be beneficial to analyze the relationship between R&D (randd) and other variables such as sales, employment, or patents. This analysis can help identify any correlation or causation between R&D investments and various business outcomes.\n",
    "\n",
    "These inferences provide a preliminary understanding of the 'randd' feature in the dataset. However, further analysis and exploration are recommended to gain deeper insights and draw more specific conclusions."
   ]
  },
  {
   "cell_type": "code",
   "execution_count": 130,
   "id": "1a8dd9e4",
   "metadata": {},
   "outputs": [
    {
     "data": {
      "image/png": "[encoded data removed]",
      "text/plain": [
       "<Figure size 432x288 with 1 Axes>"
      ]
     },
     "metadata": {
      "needs_background": "light"
     },
     "output_type": "display_data"
    }
   ],
   "source": [
    "data['patents'].hist()\n",
    "plt.xlabel('No of Patents')\n",
    "plt.ylabel('Frequency')\n",
    "plt.title('Histogram of Patents')\n",
    "plt.show()"
   ]
  },
  {
   "cell_type": "markdown",
   "id": "8b0a699d",
   "metadata": {},
   "source": [
    "Based on the provided range and standard deviation of the 'patents' feature (ranging from 0 to 1220, standard deviation = 97.25), here are some business inferences we can derive:\n",
    "\n",
    "1. Variation in Patent Activity: The 'patents' feature indicates the number of granted patents for companies. The range of values suggests that companies in the dataset have varying levels of patent activity, ranging from no granted patents (0) to a maximum of 1220 granted patents.\n",
    "\n",
    "2. Innovation and Intellectual Property: The presence of granted patents indicates that companies in the dataset invest in innovation and intellectual property protection. Companies with higher numbers of patents may have a stronger focus on research and development, leading to new inventions or technological advancements.\n",
    "\n",
    "3. Patent Portfolio Diversity: The standard deviation (97.25) signifies the level of dispersion or diversity in the number of patents across companies. A higher standard deviation indicates that there is considerable variation in patent activity among the companies. Some companies may have a more extensive patent portfolio compared to others.\n",
    "\n",
    "4. Competitive Advantage: Companies with a larger number of granted patents may possess a competitive advantage over their competitors. A strong patent portfolio can protect their innovations and provide them with exclusivity in the market, potentially leading to market dominance or higher market value.\n",
    "\n",
    "5. Technological Leadership: Companies with a higher number of patents may be perceived as leaders in their respective industries or technological domains. This can enhance their reputation and attract strategic partnerships or investments.\n",
    "\n",
    "6. Intellectual Property Strategy: Analyzing the patent activity can provide insights into a company's intellectual property strategy. Companies with a higher number of patents may prioritize innovation and intellectual property protection as key elements of their business strategy.\n",
    "\n",
    "7. Collaboration and Licensing Opportunities: Companies with fewer granted patents may explore collaboration or licensing opportunities with companies having a more extensive patent portfolio. Collaborating with patent-rich companies can provide access to valuable intellectual property and facilitate technology transfer.\n",
    "\n",
    "8. Patent Trends: Analyzing the distribution of patents over time can reveal trends in innovation and technological advancements within the dataset. It can help identify emerging technologies or areas of focus for the companies.\n",
    "\n",
    "These inferences provide a preliminary understanding of the 'patents' feature in the dataset. Further analysis, including exploring relationships with other variables or industry-specific considerations, would enable us to draw more specific conclusions based on the context and objectives of the study."
   ]
  },
  {
   "cell_type": "code",
   "execution_count": 131,
   "id": "9032ac05",
   "metadata": {},
   "outputs": [
    {
     "data": {
      "image/png": "[encoded data removed]",
      "text/plain": [
       "<Figure size 432x288 with 1 Axes>"
      ]
     },
     "metadata": {
      "needs_background": "light"
     },
     "output_type": "display_data"
    }
   ],
   "source": [
    "data['employment'].hist()\n",
    "plt.xlabel('No of employment')\n",
    "plt.ylabel('Frequency')\n",
    "plt.title('Histogram of Employment')\n",
    "plt.show()"
   ]
  },
  {
   "cell_type": "markdown",
   "id": "fd196cd1",
   "metadata": {},
   "source": [
    "Based on the provided mean, median, and standard deviation values for the 'employment' feature (mean = 14.16, median = 2.92, standard deviation = 43.32), here are some insights we can derive:\n",
    "\n",
    "1. Skewed Distribution: The 'employment' feature exhibits a right-skewed distribution as the mean (14.16) is higher than the median (2.92). This suggests that there are a few companies with relatively high employment levels, pulling the average towards higher values.\n",
    "\n",
    "2. Varying Workforce Sizes: The wide difference between the mean and median indicates significant variation in employment levels across companies. While the median value represents the typical or median level of employment, the presence of high-value outliers suggests the existence of companies with larger workforces.\n",
    "\n",
    "3. Diverse Company Sizes: The range of values for the 'employment' feature indicates that the dataset covers a wide range of company sizes in terms of employment. It includes both smaller companies with lower employment figures and larger companies with relatively higher employment levels.\n",
    "\n",
    "4. Industry Considerations: The interpretation of employment values depends on the specific industry or sector represented in the dataset. Employment levels can vary significantly across industries, such as technology, manufacturing, or services. Understanding the industry context is important for drawing accurate conclusions.\n",
    "\n",
    "5. Potential Outliers: The standard deviation of 43.32 suggests the presence of significant variability in employment levels. It is likely that there are outliers in the dataset, representing companies with exceptionally high employment numbers. These outliers may be large corporations or companies in labor-intensive industries.\n",
    "\n",
    "6. Employment Stability: The variation in employment levels across companies may indicate differences in employment stability. Companies with higher employment figures might have more stable workforce sizes, while those with lower figures may experience more fluctuations or rely on a more flexible workforce.\n",
    "\n",
    "7. Impact on Other Variables: Exploring the relationship between the 'employment' feature and other variables, such as sales or capital, can provide insights into the correlation between employment levels and business performance. It can help identify whether larger workforces are associated with higher sales or greater capital investments.\n",
    "\n",
    "8. Economic Indicators: The 'employment' feature can be used as an economic indicator to assess the labor market's health or the overall economic activity within the dataset. Changes in employment levels can reflect broader economic trends or fluctuations.\n",
    "\n",
    "These insights provide a preliminary understanding of the 'employment' feature in the dataset. Further analysis, considering industry-specific factors and exploring relationships with other variables, would allow to draw more specific conclusions based on the context and objectives of your study."
   ]
  },
  {
   "cell_type": "code",
   "execution_count": 132,
   "id": "a72b9467",
   "metadata": {},
   "outputs": [
    {
     "data": {
      "image/png": "[encoded data removed]",
      "text/plain": [
       "<Figure size 432x288 with 1 Axes>"
      ]
     },
     "metadata": {
      "needs_background": "light"
     },
     "output_type": "display_data"
    }
   ],
   "source": [
    "data['tobinq'].hist()\n",
    "plt.xlabel('Tobin''s q ratio')\n",
    "plt.ylabel('Frequency')\n",
    "plt.title('Histogram of Tobinq')\n",
    "plt.show()"
   ]
  },
  {
   "cell_type": "markdown",
   "id": "93c3f816",
   "metadata": {},
   "source": [
    "Based on the provided mean, median, and standard deviation values for the 'tobinq' feature (mean = 2.79, median = 1.68, standard deviation = 3.36), here are some insights we can derive:\n",
    "\n",
    "1. Wide Range of Ratios: The 'tobinq' feature represents Tobin's q ratio, which is the ratio between a physical asset's market value and its replacement value. The range of values suggests significant variation in the Tobin's q ratios across companies in the dataset.\n",
    "\n",
    "2. Skewed Distribution: The right-skewed distribution can be inferred from the fact that the mean (2.79) is higher than the median (1.68). This suggests that there are companies with higher Tobin's q ratios, pulling the average towards higher values.\n",
    "\n",
    "3. Asset Valuation: The Tobin's q ratio provides insights into how the market values a company's physical assets relative to their replacement value. A ratio greater than 1 indicates that the market values the assets higher than their replacement cost, potentially indicating positive investor sentiment or expectations of future growth.\n",
    "\n",
    "4. Potential Overvaluation: Companies with Tobin's q ratios significantly higher than 1 may be considered overvalued by the market. This could indicate that investors have high expectations of future returns or growth potential based on the company's assets.\n",
    "\n",
    "5. Industry Comparisons: The interpretation of Tobin's q ratios should consider industry-specific characteristics and norms. Different industries may have varying average ratios due to differences in asset types, depreciation rates, or growth prospects. Comparing ratios within the same industry can provide more meaningful insights.\n",
    "\n",
    "6. Investment Opportunities: Low Tobin's q ratios (below 1) might suggest potential investment opportunities. A ratio below 1 indicates that the market values the assets lower than their replacement cost, which may imply undervaluation or potential for value creation.\n",
    "\n",
    "7. Impact of Market Conditions: Tobin's q ratios can be influenced by market conditions, such as economic cycles or investor sentiment. During periods of economic growth or favorable market conditions, higher Tobin's q ratios might be observed.\n",
    "\n",
    "8. Relationship with Company Performance: Exploring the relationship between Tobin's q ratios and other variables, such as sales or profitability, can provide insights into the correlation between asset valuation and business performance. It can help identify whether companies with higher ratios also exhibit stronger financial performance.\n",
    "\n",
    "Further analysis, considering industry-specific factors and exploring relationships with other variables, would allow us to draw more specific conclusions."
   ]
  },
  {
   "cell_type": "code",
   "execution_count": 133,
   "id": "43d9273b",
   "metadata": {},
   "outputs": [
    {
     "data": {
      "image/png": "[encoded data removed]",
      "text/plain": [
       "<Figure size 432x288 with 1 Axes>"
      ]
     },
     "metadata": {
      "needs_background": "light"
     },
     "output_type": "display_data"
    }
   ],
   "source": [
    "data['value'].hist()\n",
    "plt.xlabel('Stock value')\n",
    "plt.ylabel('Frequency')\n",
    "plt.title('Histogram of Stock Value')\n",
    "plt.show()"
   ]
  },
  {
   "cell_type": "markdown",
   "id": "9772113d",
   "metadata": {},
   "source": [
    "Based on the provided mean, median, and standard deviation values for the 'value' feature (mean = 2732.73, median = 410.79, standard deviation = 7071.07), here are some key business insights we can derive:\n",
    "\n",
    "1. Wide Range of Stock Market Values: The 'value' feature represents the stock market value of companies. The wide range of values suggests significant variation in market valuations across the companies in the dataset.\n",
    "\n",
    "2. Skewed Distribution: The right-skewed distribution can be inferred from the fact that the mean (2732.73) is higher than the median (410.79). This indicates that there are companies with higher stock market values, pulling the average towards higher values.\n",
    "\n",
    "3. Company Valuation: The 'value' feature provides insights into how the market values companies in terms of their market capitalization. Higher values indicate that the market perceives these companies to have a higher worth or market value.\n",
    "\n",
    "4. Outliers: The presence of outliers is likely due to companies with exceptionally high stock market values. These outliers may represent companies with strong market performance or significant market capitalization.\n",
    "\n",
    "5. Market Capitalization Considerations: The 'value' feature reflects the market's perception of a company's worth. Higher market capitalization can signify factors such as strong financial performance, growth prospects, brand value, or market dominance.\n",
    "\n",
    "6. Industry Comparisons: Comparing the market values across companies within the same industry can provide insights into relative market perceptions and competitiveness. Different industries may have different average market values based on factors such as revenue potential, growth rates, or industry dynamics.\n",
    "\n",
    "7. Impact of Market Conditions: The stock market values can be influenced by market conditions, investor sentiment, and economic factors. During periods of market optimism or favorable economic conditions, higher stock market values may be observed.\n",
    "\n",
    "8. Relationship with Financial Performance: Exploring the relationship between stock market values and other financial variables, such as sales, profitability, or earnings, can provide insights into the correlation between market value and business performance. It can help identify whether companies with higher market values also exhibit stronger financial performance.\n",
    "\n",
    "9. Potential Investment Opportunities: Companies with lower market values relative to their intrinsic value may present potential investment opportunities. A lower market value may suggest undervaluation or room for market correction.\n"
   ]
  },
  {
   "cell_type": "code",
   "execution_count": 134,
   "id": "3fa82fd7",
   "metadata": {},
   "outputs": [
    {
     "data": {
      "image/png": "[encoded data removed]",
      "text/plain": [
       "<Figure size 432x288 with 1 Axes>"
      ]
     },
     "metadata": {
      "needs_background": "light"
     },
     "output_type": "display_data"
    }
   ],
   "source": [
    "data['institutions'].hist()\n",
    "plt.xlabel('Proportion of stock owned by institutions')\n",
    "plt.ylabel('Frequency')\n",
    "plt.title('Histogram of Institutions')\n",
    "plt.show()"
   ]
  },
  {
   "cell_type": "markdown",
   "id": "ae10d813",
   "metadata": {},
   "source": [
    "Based on the provided mean and standard deviation values for the 'institutions' feature (mean = 43.02, standard deviation = 21.68), here are some key insights we can derive:\n",
    "\n",
    "1. Institutional Ownership: The 'institutions' feature represents the proportion of stock owned by institutions. Institutions can include mutual funds, pension funds, hedge funds, and other institutional investors.\n",
    "\n",
    "2. Variation in Institutional Ownership: The standard deviation of 21.68 suggests a significant variation in institutional ownership across the companies in the dataset. Some companies may have a higher proportion of institutional ownership, while others may have a lower proportion.\n",
    "\n",
    "3. Market Influence: Higher institutional ownership indicates that institutional investors have a significant stake in the company's stock. Institutions' investment decisions can impact the company's stock price and overall market sentiment.\n",
    "\n",
    "4. Investor Confidence: Higher institutional ownership may be seen as a vote of confidence from institutional investors. It suggests that these investors perceive the company to have strong growth potential, profitability, or other favorable characteristics.\n",
    "\n",
    "5. Market Stability: Institutional ownership can contribute to market stability. Institutional investors typically have longer investment horizons and are less prone to rapid buying or selling decisions, which can help reduce stock price volatility.\n",
    "\n",
    "6. Impact on Corporate Governance: Companies with higher institutional ownership may be subject to increased scrutiny and oversight from institutional investors. Institutional shareholders often have voting rights and may play a role in shaping corporate governance policies.\n",
    "\n",
    "7. Influence on Strategic Decisions: Institutional investors, particularly those with a substantial ownership stake, may have influence over the company's strategic decisions. They may engage in discussions with management regarding corporate strategy, capital allocation, or other important matters.\n",
    "\n",
    "8. Industry Comparisons: Comparing institutional ownership across companies within the same industry can provide insights into industry norms and investor preferences. Different industries may attract varying levels of institutional ownership based on factors such as industry stability, growth potential, or regulatory environment.\n",
    "\n",
    "9. Potential Investor Interest: Companies with lower institutional ownership may attract the attention of individual investors or retail investors looking for opportunities outside of institutional consensus. This can create potential opportunities for investor diversification or alternative investment strategies."
   ]
  },
  {
   "cell_type": "markdown",
   "id": "a3bb2ead",
   "metadata": {},
   "source": [
    "### Bivariate Analysis"
   ]
  },
  {
   "cell_type": "code",
   "execution_count": 135,
   "id": "c7a26b04",
   "metadata": {},
   "outputs": [
    {
     "data": {
      "image/png": "[encoded data removed]",
      "text/plain": [
       "<Figure size 432x288 with 1 Axes>"
      ]
     },
     "metadata": {
      "needs_background": "light"
     },
     "output_type": "display_data"
    },
    {
     "name": "stdout",
     "output_type": "stream",
     "text": [
      "Correlation coefficient between sales and capital: 0.8695945295585586\n"
     ]
    }
   ],
   "source": [
    "# Bivariate Analysis: Sales vs Capital\n",
    "sns.scatterplot(data=data, x='sales', y='capital')\n",
    "plt.title('Sales vs Capital')\n",
    "plt.xlabel('Sales (in millions of dollars)')\n",
    "plt.ylabel('Capital (Net stock of property, plant, and equipment)')\n",
    "plt.show()\n",
    "\n",
    "# Calculate the correlation coefficient\n",
    "correlation = data['sales'].corr(data['capital'])\n",
    "print(f\"Correlation coefficient between sales and capital: {correlation}\")"
   ]
  },
  {
   "cell_type": "markdown",
   "id": "470661b9",
   "metadata": {},
   "source": [
    "With a correlation coefficient of 0.8696 between 'sales' and 'capital', we can derive the following business insights:\n",
    "\n",
    "1. Strong Positive Relationship: The high positive correlation coefficient indicates a strong positive relationship between 'sales' and 'capital'. This suggests that as sales increase, there is a tendency for the capital investment in property, plant, and equipment to also increase. \n",
    "\n",
    "2. Capital Intensity: The positive correlation implies that companies with higher sales volumes tend to have higher investments in capital assets. This suggests that these companies may have a capital-intensive business model, where they rely on significant physical assets to generate sales and support business operations.\n",
    "\n",
    "3. Growth and Expansion: The positive relationship between 'sales' and 'capital' indicates that companies with higher sales may be investing in capital assets to support their growth and expansion strategies. Increasing sales may require additional infrastructure, manufacturing facilities, or equipment to meet higher demand.\n",
    "\n",
    "4. Efficiency and Productivity: The positive correlation suggests that companies may be investing in capital assets to enhance productivity and efficiency in their operations. Higher capital investments could lead to increased automation, improved production processes, or upgraded infrastructure, resulting in higher sales.\n",
    "\n",
    "5. Industry-specific Considerations: The relationship between 'sales' and 'capital' may vary across industries. Some industries, such as manufacturing or infrastructure, typically require significant capital investments to support sales growth. Comparing the correlation within specific industry sectors can provide industry-specific insights.\n",
    "\n",
    "6. Capital Planning and Allocation: Understanding the relationship between sales and capital investments can assist in strategic decision-making related to capital planning and allocation. Companies can use this information to align their capital investments with sales forecasts and business growth projections.\n",
    "\n",
    "7. Financial Performance: Companies with a strong positive correlation between 'sales' and 'capital' may demonstrate a positive relationship between financial performance metrics such as revenue and net income. Higher capital investments may contribute to revenue growth and potentially lead to improved profitability.\n",
    "\n",
    "8. Risk Management: The correlation between 'sales' and 'capital' should be considered when assessing risk. Over-reliance on capital assets for sales growth may expose companies to risks associated with economic downturns, changes in industry dynamics, or shifts in consumer preferences.\n",
    "\n",
    "These insights provide an initial understanding of the relationship between 'sales' and 'capital' based on the correlation coefficient. Further analysis, taking into account industry-specific factors, exploring other variables, and considering the business context, would enable us to draw more specific conclusions and make informed business decisions."
   ]
  },
  {
   "cell_type": "code",
   "execution_count": 136,
   "id": "6d6e6089",
   "metadata": {},
   "outputs": [
    {
     "data": {
      "image/png": "[encoded data removed]",
      "text/plain": [
       "<Figure size 432x288 with 1 Axes>"
      ]
     },
     "metadata": {
      "needs_background": "light"
     },
     "output_type": "display_data"
    },
    {
     "name": "stdout",
     "output_type": "stream",
     "text": [
      "Correlation coefficient between sales and patents: 0.6821344530202256\n"
     ]
    }
   ],
   "source": [
    "# Bivariate Analysis: Sales vs patents\n",
    "sns.scatterplot(data=data, x='sales', y='patents')\n",
    "plt.title('Sales vs Patents')\n",
    "plt.xlabel('Sales (in millions of dollars)')\n",
    "plt.ylabel(' Number of granted patents.')\n",
    "plt.show()\n",
    "\n",
    "# Calculate the correlation coefficient\n",
    "correlation = data['sales'].corr(data['patents'])\n",
    "print(f\"Correlation coefficient between sales and patents: {correlation}\")"
   ]
  },
  {
   "cell_type": "markdown",
   "id": "1993f1ad",
   "metadata": {},
   "source": [
    "With a correlation coefficient of 0.6821 between 'sales' and 'patents', we can derive the following business insights:\n",
    "\n",
    "1. Moderate Positive Relationship: The moderate positive correlation coefficient indicates a positive relationship between 'sales' and 'patents'. This suggests that there is a tendency for higher sales to be associated with a higher number of granted patents.\n",
    "\n",
    "2. Innovation and Competitive Advantage: The positive correlation suggests that companies with higher sales may be investing in research and development activities, leading to the development of innovative technologies or products that are granted patents. This indicates that innovation plays a role in driving sales growth and may provide companies with a competitive advantage in their respective markets.\n",
    "\n",
    "3. Intellectual Property Value: The correlation between 'sales' and 'patents' implies that companies with a larger number of granted patents may possess valuable intellectual property assets. These patents can protect innovative products, technologies, or processes, and contribute to a company's market position and revenue generation.\n",
    "\n",
    "4. Market Differentiation: Companies with a higher number of granted patents may differentiate themselves from competitors by offering unique products or technologies. This differentiation can help attract customers, increase market share, and contribute to sales growth.\n",
    "\n",
    "5. Long-Term Growth Potential: The positive relationship between 'sales' and 'patents' suggests that companies that invest in research and development, leading to patented innovations, may have greater long-term growth potential. These innovations can drive customer demand, create new revenue streams, and contribute to sustainable business growth.\n",
    "\n",
    "6. Industry-specific Considerations: The relationship between 'sales' and 'patents' may vary across industries. Some industries, such as technology, pharmaceuticals, or biotechnology, are more research and development-intensive and rely heavily on patents for competitive advantage. Comparing the correlation within specific industry sectors can provide industry-specific insights.\n",
    "\n",
    "7. Strategic Partnerships and Licensing: Companies with a larger number of patents may have opportunities for strategic partnerships or licensing agreements. These collaborations can generate additional revenue streams through technology transfers, royalties, or joint product development efforts.\n",
    "\n",
    "8. Brand Value and Reputation: A high number of granted patents can enhance a company's brand value and reputation as an innovative leader in the industry. This can positively influence customer perceptions, attract top talent, and strengthen relationships with partners and investors.\n",
    "\n",
    "9. Risk of Patent Infringement: Companies with a significant number of granted patents need to be aware of the potential risk of patent infringement by competitors. Protecting and enforcing patents through legal means may be necessary to safeguard the company's innovations and market position.\n",
    "\n",
    "These insights provide a preliminary understanding of the relationship between 'sales' and 'patents' based on the correlation coefficient. Further analysis, considering industry-specific factors, exploring other variables, and considering the business context, would allow us to draw more specific conclusions and make informed business decisions."
   ]
  },
  {
   "cell_type": "code",
   "execution_count": 137,
   "id": "786fa3b0",
   "metadata": {},
   "outputs": [
    {
     "data": {
      "image/png": "[encoded data removed]",
      "text/plain": [
       "<Figure size 432x288 with 1 Axes>"
      ]
     },
     "metadata": {
      "needs_background": "light"
     },
     "output_type": "display_data"
    },
    {
     "name": "stdout",
     "output_type": "stream",
     "text": [
      "Correlation coefficient between sales and R&d: 0.8701131010124549\n"
     ]
    }
   ],
   "source": [
    "# Bivariate Analysis: Sales vs randd\n",
    "sns.scatterplot(data=data, x='sales', y='randd')\n",
    "plt.title('Sales vs R&D')\n",
    "plt.xlabel('Sales (in millions of dollars)')\n",
    "plt.ylabel(' R&D Stock.')\n",
    "plt.show()\n",
    "\n",
    "# Calculate the correlation coefficient\n",
    "correlation = data['sales'].corr(data['randd'])\n",
    "print(f\"Correlation coefficient between sales and R&d: {correlation}\")"
   ]
  },
  {
   "cell_type": "markdown",
   "id": "2ef1e4fe",
   "metadata": {},
   "source": [
    "With a correlation coefficient of 0.8701 between 'sales' and 'R&D', we can derive the following business insights:\n",
    "\n",
    "1. Strong Positive Relationship: The high positive correlation coefficient suggests a strong positive relationship between 'sales' and 'R&D'. This indicates that there is a tendency for companies with higher sales to also have higher investments in research and development activities.\n",
    "\n",
    "2. Innovation and Product Development: The positive correlation implies that companies investing more in R&D may be developing innovative products, technologies, or services. These innovations can contribute to sales growth by meeting customer needs, staying ahead of competitors, and expanding market reach.\n",
    "\n",
    "3. Competitive Advantage: Higher investments in R&D can lead to the development of unique products or processes, giving companies a competitive advantage. This advantage can result in increased sales as customers perceive the company's offerings as superior or more desirable compared to competitors.\n",
    "\n",
    "4. Market Differentiation: Companies that allocate resources to R&D may differentiate themselves by introducing novel features, improved functionality, or enhanced performance in their products or services. This differentiation can help attract customers, retain market share, and increase sales.\n",
    "\n",
    "5. Long-Term Growth Potential: The strong positive correlation indicates that companies with a focus on R&D have greater long-term growth potential. Investing in research and development can lead to the creation of new markets, expansion into new industries, and the development of breakthrough innovations that drive sustained sales growth.\n",
    "\n",
    "6. Industry-specific Considerations: The relationship between 'sales' and 'R&D' may vary across industries. Industries with a higher emphasis on technological advancements, such as software, biotechnology, or electronics, may exhibit a stronger correlation between sales and R&D. Comparing correlations within specific industry sectors can provide industry-specific insights.\n",
    "\n",
    "7. Cost of Innovation: While R&D investments can drive sales growth, it is important to consider the cost associated with research and development activities. Companies need to carefully manage and balance their R&D expenditure to ensure a positive return on investment.\n",
    "\n",
    "8. Market Timing: The correlation suggests that companies with higher sales may have invested strategically in R&D during periods when market demand was favorable or when new opportunities arose. Understanding the timing of R&D investments can help companies align their innovation strategies with market dynamics.\n",
    "\n",
    "9. Intellectual Property and Patents: The positive correlation indicates that companies with higher R&D investments may generate intellectual property assets, such as patents. These patents can protect their innovations, create barriers to entry for competitors, and contribute to sales growth through licensing or strategic partnerships."
   ]
  },
  {
   "cell_type": "code",
   "execution_count": 138,
   "id": "9f95b842",
   "metadata": {},
   "outputs": [
    {
     "data": {
      "image/png": "[encoded data removed]",
      "text/plain": [
       "<Figure size 432x288 with 1 Axes>"
      ]
     },
     "metadata": {
      "needs_background": "light"
     },
     "output_type": "display_data"
    },
    {
     "name": "stdout",
     "output_type": "stream",
     "text": [
      "Correlation coefficient between sales and employment: 0.9088681916547849\n"
     ]
    }
   ],
   "source": [
    "# Bivariate Analysis: Sales vs employment\n",
    "sns.scatterplot(data=data, x='sales', y='randd')\n",
    "plt.title('Sales vs Employment')\n",
    "plt.xlabel('Sales (in millions of dollars)')\n",
    "plt.ylabel(' Employment.')\n",
    "plt.show()\n",
    "\n",
    "# Calculate the correlation coefficient\n",
    "correlation = data['sales'].corr(data['employment'])\n",
    "print(f\"Correlation coefficient between sales and employment: {correlation}\")"
   ]
  },
  {
   "cell_type": "markdown",
   "id": "7eca6943",
   "metadata": {},
   "source": [
    "With a correlation coefficient of 0.9089 between 'sales' and 'employment', we can derive the following business insights:\n",
    "\n",
    "1. Strong Positive Relationship: The high positive correlation coefficient suggests a strong positive relationship between 'sales' and 'employment'. This indicates that as sales increase, there is a tendency for companies to have higher levels of employment.\n",
    "\n",
    "2. Sales Growth and Workforce Expansion: The positive correlation suggests that companies experiencing sales growth may need to expand their workforce to meet increased demand. Hiring additional employees can help companies handle larger sales volumes, provide better customer service, and support business operations.\n",
    "\n",
    "3. Labor-Intensive Industries: Industries with a high positive correlation between 'sales' and 'employment' may have labor-intensive operations. These industries rely heavily on human capital and require a larger workforce to generate sales. Examples of labor-intensive industries include retail, hospitality, and healthcare.\n",
    "\n",
    "4. Job Creation and Economic Impact: The positive relationship between 'sales' and 'employment' implies that sales growth can contribute to job creation and have a positive impact on the economy. Increased employment opportunities can improve income levels, consumer spending, and overall economic activity.\n",
    "\n",
    "5. Employee Productivity: The correlation suggests that companies with higher sales may need to focus on improving employee productivity to meet increased demand without significantly increasing the workforce. Implementing efficient processes, training programs, and technological advancements can help companies optimize employee productivity and drive sales growth.\n",
    "\n",
    "6. Sales Forecasting and Workforce Planning: Understanding the correlation between 'sales' and 'employment' can assist in sales forecasting and workforce planning. Companies can use historical sales data to estimate future employment needs, align staffing levels with projected sales volumes, and optimize workforce utilization.\n",
    "\n",
    "7. Seasonal Variations: It is essential to consider seasonal variations and industry-specific factors that may influence the relationship between 'sales' and 'employment'. Some industries experience fluctuations in sales and, consequently, employment levels based on seasonal demand patterns or cyclical trends.\n",
    "\n",
    "8. Cost Management: While increased sales may necessitate workforce expansion, companies should carefully manage the associated costs. Balancing labor costs with revenue growth is crucial to maintain profitability and financial sustainability.\n",
    "\n",
    "9. Employee Engagement and Satisfaction: A strong positive correlation suggests that employees play a significant role in driving sales. Companies should focus on employee engagement, motivation, and satisfaction to ensure they contribute positively to sales growth and overall business success."
   ]
  },
  {
   "cell_type": "code",
   "execution_count": 139,
   "id": "508af9ba",
   "metadata": {},
   "outputs": [
    {
     "data": {
      "image/png": "[encoded data removed]",
      "text/plain": [
       "<Figure size 432x288 with 1 Axes>"
      ]
     },
     "metadata": {
      "needs_background": "light"
     },
     "output_type": "display_data"
    },
    {
     "name": "stdout",
     "output_type": "stream",
     "text": [
      "Correlation coefficient between sales and tobinq: -0.11346267727284008\n"
     ]
    }
   ],
   "source": [
    "# Bivariate Analysis: Sales vs employment\n",
    "sns.scatterplot(data=data, x='sales', y='tobinq')\n",
    "plt.title('Sales vs Tobinq')\n",
    "plt.xlabel('Sales (in millions of dollars)')\n",
    "plt.ylabel(' Tobinq.')\n",
    "plt.show()\n",
    "\n",
    "# Calculate the correlation coefficient\n",
    "correlation = data['sales'].corr(data['tobinq'])\n",
    "print(f\"Correlation coefficient between sales and tobinq: {correlation}\")"
   ]
  },
  {
   "cell_type": "markdown",
   "id": "a18eab5e",
   "metadata": {},
   "source": [
    "With a correlation coefficient of -0.1135 between 'sales' and 'tobinq', we can derive the following business insights:\n",
    "\n",
    "1. Weak Negative Relationship: The negative correlation coefficient suggests a weak negative relationship between 'sales' and 'tobinq'. This indicates that there is a slight tendency for companies with higher sales to have a lower Tobin's q ratio.\n",
    "\n",
    "2. Market Value and Replacement Value: Tobin's q ratio compares the market value of a company to its replacement value. The negative correlation implies that companies with higher sales may have a lower market value relative to their replacement value. This could indicate potential undervaluation by the market or inefficiencies in capturing the value of the company's assets.\n",
    "\n",
    "3. Market Perception: The negative relationship suggests that the market may have lower expectations regarding the company's future profitability or growth potential, despite higher sales. Investors may perceive the company's market value as relatively low compared to its physical asset value.\n",
    "\n",
    "4. Investment Efficiency: Companies with higher sales but a lower Tobin's q ratio may face challenges in efficiently allocating their capital or maximizing returns on investment. It could indicate that the company's investments are not generating sufficient market value or that there are inefficiencies in capital allocation.\n",
    "\n",
    "5. Financial Performance Evaluation: While a weak negative correlation does not provide strong conclusions, it suggests the need for a more comprehensive analysis of the company's financial performance. Evaluating other financial indicators such as profit margins, return on investment, and market perception can provide a more holistic view of the company's performance.\n",
    "\n",
    "6. Industry-specific Considerations: The relationship between 'sales' and 'tobinq' may vary across industries. Different industries may have varying levels of market value and replacement value dynamics. Comparing the correlation within specific industry sectors can provide industry-specific insights.\n",
    "\n",
    "7. Capital Structure and Financing: The negative correlation between 'sales' and 'tobinq' may indicate potential issues in the company's capital structure or financing decisions. Companies with high sales but a low market value relative to replacement value may need to evaluate their capital structure, debt levels, or financing strategies.\n",
    "\n",
    "8. Investor Sentiment: The negative correlation suggests that investors may have concerns about the company's ability to generate future profits or create value from its assets. This could affect investor sentiment and influence investment decisions in the company.\n",
    "\n",
    "9. Long-term Investment Decisions: The negative correlation indicates that companies with higher sales need to carefully evaluate their long-term investment decisions. Considering factors such as market dynamics, competitive landscape, and capital efficiency can help align investment strategies with expected returns and market expectations."
   ]
  },
  {
   "cell_type": "code",
   "execution_count": 140,
   "id": "000f35b4",
   "metadata": {},
   "outputs": [
    {
     "data": {
      "image/png": "[encoded data removed]",
      "text/plain": [
       "<Figure size 432x288 with 1 Axes>"
      ]
     },
     "metadata": {
      "needs_background": "light"
     },
     "output_type": "display_data"
    },
    {
     "name": "stdout",
     "output_type": "stream",
     "text": [
      "Correlation coefficient between sales and stock value: 0.7137776334470757\n"
     ]
    }
   ],
   "source": [
    "# Bivariate Analysis: Sales vs employment\n",
    "sns.scatterplot(data=data, x='sales', y='value')\n",
    "plt.title('Sales vs Stock Value')\n",
    "plt.xlabel('Sales (in millions of dollars)')\n",
    "plt.ylabel(' Stock Value.')\n",
    "plt.show()\n",
    "\n",
    "# Calculate the correlation coefficient\n",
    "correlation = data['sales'].corr(data['value'])\n",
    "print(f\"Correlation coefficient between sales and stock value: {correlation}\")"
   ]
  },
  {
   "cell_type": "markdown",
   "id": "f0fb93d6",
   "metadata": {},
   "source": [
    "With a correlation coefficient of 0.7138 between 'sales' and 'stock value', we can derive the following business insights:\n",
    "\n",
    "1. Strong Positive Relationship: The positive correlation coefficient suggests a strong positive relationship between 'sales' and 'stock value'. This indicates that companies with higher sales tend to have a higher stock market value.\n",
    "\n",
    "2. Market Confidence: The positive correlation implies that the market has confidence in companies with higher sales, as reflected in their higher stock values. Investors perceive these companies as having better growth prospects, profitability, or market dominance, leading to increased market valuation.\n",
    "\n",
    "3. Sales as a Value Driver: The strong positive relationship suggests that sales performance is a significant driver of stock market value. Companies that consistently achieve higher sales are more likely to attract investor attention and drive up their stock prices.\n",
    "\n",
    "4. Investor Sentiment: The positive correlation signifies positive investor sentiment towards companies with higher sales. Investors are more likely to view these companies favorably, leading to increased demand for their stocks and higher valuations.\n",
    "\n",
    "5. Growth Potential: The correlation suggests that investors see companies with higher sales as having greater growth potential. It indicates that the market values companies that are able to generate revenue and achieve sales growth, signaling confidence in their ability to expand their market share and profitability.\n",
    "\n",
    "It is important to note that correlation does not imply causation. While there is a strong positive relationship between sales and stock value, other factors such as industry dynamics, competitive landscape, financial performance, and market conditions also play a role in determining stock prices. Therefore, it is essential to conduct further analysis and consider these factors in order to gain a comprehensive understanding of the relationship between sales and stock value and make informed business decisions."
   ]
  },
  {
   "cell_type": "code",
   "execution_count": 141,
   "id": "03fb394d",
   "metadata": {},
   "outputs": [
    {
     "data": {
      "text/plain": [
       "Index(['sales', 'capital', 'patents', 'randd', 'employment', 'sp500', 'tobinq',\n",
       "       'value', 'institutions'],\n",
       "      dtype='object')"
      ]
     },
     "execution_count": 141,
     "metadata": {},
     "output_type": "execute_result"
    }
   ],
   "source": [
    "data.columns"
   ]
  },
  {
   "cell_type": "code",
   "execution_count": 142,
   "id": "bf6e797d",
   "metadata": {},
   "outputs": [
    {
     "data": {
      "image/png": "[encoded data removed]",
      "text/plain": [
       "<Figure size 432x288 with 1 Axes>"
      ]
     },
     "metadata": {
      "needs_background": "light"
     },
     "output_type": "display_data"
    },
    {
     "name": "stdout",
     "output_type": "stream",
     "text": [
      "Correlation coefficient between sales and institutions: 0.11648323310848391\n"
     ]
    }
   ],
   "source": [
    "# Bivariate Analysis: Sales vs employment\n",
    "sns.scatterplot(data=data, x='sales', y='institutions')\n",
    "plt.title('Sales vs institutions')\n",
    "plt.xlabel('Sales (in millions of dollars)')\n",
    "plt.ylabel(' Institutions.')\n",
    "plt.show()\n",
    "\n",
    "# Calculate the correlation coefficient\n",
    "correlation = data['sales'].corr(data['institutions'])\n",
    "print(f\"Correlation coefficient between sales and institutions: {correlation}\")"
   ]
  },
  {
   "cell_type": "markdown",
   "id": "955b1ce7",
   "metadata": {},
   "source": [
    "With a correlation coefficient of 0.1165 between 'sales' and 'institutions', we can derive the following business insights:\n",
    "\n",
    "1. Weak Positive Relationship: The positive correlation coefficient suggests a weak positive relationship between 'sales' and 'institutions'. This indicates that there is a slight tendency for companies with higher sales to have a slightly higher proportion of stock ownership by institutional investors.\n",
    "\n",
    "2. Institutional Investor Interest: The positive correlation implies that institutional investors, such as mutual funds, pension funds, or investment firms, may show interest in companies with higher sales. They may perceive these companies as having better growth prospects, profitability, or stability, leading to increased institutional ownership.\n",
    "\n",
    "3. Market Validation: The positive relationship suggests that higher sales may attract institutional investors, providing a form of market validation for the company's performance. Institutional investors typically conduct extensive research and analysis before making investment decisions, so their increased ownership can signal confidence in the company's prospects.\n",
    "\n",
    "4. Investor Influence: As institutional investors typically hold significant ownership stakes in companies, their presence can impact decision-making processes, corporate governance, and strategic direction. Companies with higher sales and a higher proportion of institutional ownership may experience increased shareholder activism or engagement with institutional investors regarding business strategies.\n",
    "\n",
    "5. Access to Capital: Companies with higher sales and a greater proportion of institutional ownership may have improved access to capital. Institutional investors often have larger pools of capital and can provide additional funding or support for growth initiatives, acquisitions, or capital expenditure projects.\n",
    "\n",
    "It is important to note that the correlation coefficient of 0.1165 indicates a weak positive relationship, and other factors beyond institutional ownership may also influence sales performance. Additionally, the specific characteristics and behavior of institutional investors can vary, so further analysis is required to understand the nature and implications of the relationship between sales and institutional ownership in the context of the specific dataset and business scenario."
   ]
  },
  {
   "cell_type": "markdown",
   "id": "7f60afa7",
   "metadata": {},
   "source": [
    "### Impute Null Values** using median imputation method since we outleirs in the dataset"
   ]
  },
  {
   "cell_type": "code",
   "execution_count": 143,
   "id": "feabe29f",
   "metadata": {},
   "outputs": [],
   "source": [
    "# Calculate the median of the 'tobinq' column\n",
    "median_value = data['tobinq'].median()\n",
    "\n",
    "# Impute missing values with the median value\n",
    "data['tobinq'] = data['tobinq'].fillna(median_value)"
   ]
  },
  {
   "cell_type": "code",
   "execution_count": 144,
   "id": "e545b99e",
   "metadata": {},
   "outputs": [
    {
     "data": {
      "text/html": [
       "<div>\n",
       "<style scoped>\n",
       "    .dataframe tbody tr th:only-of-type {\n",
       "        vertical-align: middle;\n",
       "    }\n",
       "\n",
       "    .dataframe tbody tr th {\n",
       "        vertical-align: top;\n",
       "    }\n",
       "\n",
       "    .dataframe thead th {\n",
       "        text-align: right;\n",
       "    }\n",
       "</style>\n",
       "<table border=\"1\" class=\"dataframe\">\n",
       "  <thead>\n",
       "    <tr style=\"text-align: right;\">\n",
       "      <th></th>\n",
       "      <th>sales</th>\n",
       "      <th>capital</th>\n",
       "      <th>patents</th>\n",
       "      <th>randd</th>\n",
       "      <th>employment</th>\n",
       "      <th>tobinq</th>\n",
       "      <th>value</th>\n",
       "      <th>institutions</th>\n",
       "    </tr>\n",
       "  </thead>\n",
       "  <tbody>\n",
       "    <tr>\n",
       "      <th>count</th>\n",
       "      <td>759.000000</td>\n",
       "      <td>759.000000</td>\n",
       "      <td>759.000000</td>\n",
       "      <td>759.000000</td>\n",
       "      <td>759.000000</td>\n",
       "      <td>759.000000</td>\n",
       "      <td>759.000000</td>\n",
       "      <td>759.000000</td>\n",
       "    </tr>\n",
       "    <tr>\n",
       "      <th>mean</th>\n",
       "      <td>2689.705158</td>\n",
       "      <td>1977.747498</td>\n",
       "      <td>25.831357</td>\n",
       "      <td>439.938074</td>\n",
       "      <td>14.164519</td>\n",
       "      <td>2.764071</td>\n",
       "      <td>2732.734750</td>\n",
       "      <td>43.020540</td>\n",
       "    </tr>\n",
       "    <tr>\n",
       "      <th>std</th>\n",
       "      <td>8722.060124</td>\n",
       "      <td>6466.704896</td>\n",
       "      <td>97.259577</td>\n",
       "      <td>2007.397588</td>\n",
       "      <td>43.321443</td>\n",
       "      <td>3.324665</td>\n",
       "      <td>7071.072362</td>\n",
       "      <td>21.685586</td>\n",
       "    </tr>\n",
       "    <tr>\n",
       "      <th>min</th>\n",
       "      <td>0.138000</td>\n",
       "      <td>0.057000</td>\n",
       "      <td>0.000000</td>\n",
       "      <td>0.000000</td>\n",
       "      <td>0.006000</td>\n",
       "      <td>0.119001</td>\n",
       "      <td>1.971053</td>\n",
       "      <td>0.000000</td>\n",
       "    </tr>\n",
       "    <tr>\n",
       "      <th>25%</th>\n",
       "      <td>122.920000</td>\n",
       "      <td>52.650501</td>\n",
       "      <td>1.000000</td>\n",
       "      <td>4.628262</td>\n",
       "      <td>0.927500</td>\n",
       "      <td>1.036000</td>\n",
       "      <td>103.593946</td>\n",
       "      <td>25.395000</td>\n",
       "    </tr>\n",
       "    <tr>\n",
       "      <th>50%</th>\n",
       "      <td>448.577082</td>\n",
       "      <td>202.179023</td>\n",
       "      <td>3.000000</td>\n",
       "      <td>36.864136</td>\n",
       "      <td>2.924000</td>\n",
       "      <td>1.680303</td>\n",
       "      <td>410.793529</td>\n",
       "      <td>44.110000</td>\n",
       "    </tr>\n",
       "    <tr>\n",
       "      <th>75%</th>\n",
       "      <td>1822.547366</td>\n",
       "      <td>1075.790020</td>\n",
       "      <td>11.500000</td>\n",
       "      <td>143.253403</td>\n",
       "      <td>10.050001</td>\n",
       "      <td>3.082979</td>\n",
       "      <td>2054.160386</td>\n",
       "      <td>60.510000</td>\n",
       "    </tr>\n",
       "    <tr>\n",
       "      <th>max</th>\n",
       "      <td>135696.788200</td>\n",
       "      <td>93625.200560</td>\n",
       "      <td>1220.000000</td>\n",
       "      <td>30425.255860</td>\n",
       "      <td>710.799925</td>\n",
       "      <td>20.000000</td>\n",
       "      <td>95191.591160</td>\n",
       "      <td>90.150000</td>\n",
       "    </tr>\n",
       "  </tbody>\n",
       "</table>\n",
       "</div>"
      ],
      "text/plain": [
       "               sales       capital      patents         randd  employment  \\\n",
       "count     759.000000    759.000000   759.000000    759.000000  759.000000   \n",
       "mean     2689.705158   1977.747498    25.831357    439.938074   14.164519   \n",
       "std      8722.060124   6466.704896    97.259577   2007.397588   43.321443   \n",
       "min         0.138000      0.057000     0.000000      0.000000    0.006000   \n",
       "25%       122.920000     52.650501     1.000000      4.628262    0.927500   \n",
       "50%       448.577082    202.179023     3.000000     36.864136    2.924000   \n",
       "75%      1822.547366   1075.790020    11.500000    143.253403   10.050001   \n",
       "max    135696.788200  93625.200560  1220.000000  30425.255860  710.799925   \n",
       "\n",
       "           tobinq         value  institutions  \n",
       "count  759.000000    759.000000    759.000000  \n",
       "mean     2.764071   2732.734750     43.020540  \n",
       "std      3.324665   7071.072362     21.685586  \n",
       "min      0.119001      1.971053      0.000000  \n",
       "25%      1.036000    103.593946     25.395000  \n",
       "50%      1.680303    410.793529     44.110000  \n",
       "75%      3.082979   2054.160386     60.510000  \n",
       "max     20.000000  95191.591160     90.150000  "
      ]
     },
     "execution_count": 144,
     "metadata": {},
     "output_type": "execute_result"
    }
   ],
   "source": [
    "data.describe()"
   ]
  },
  {
   "cell_type": "markdown",
   "id": "c2c42c96",
   "metadata": {},
   "source": [
    "**Is scaling important in this analysis**\n",
    "- By observing the above table, we could see that features are in different scales, it is recommended to perform scaling on the dataset. Common scaling techniques include standardization (subtracting the mean and dividing by the standard deviation) or normalization (scaling the values to a specific range, such as [0, 1])."
   ]
  },
  {
   "cell_type": "markdown",
   "id": "04a3944d",
   "metadata": {},
   "source": [
    "**Encode the data (having string values) for Modelling**"
   ]
  },
  {
   "cell_type": "code",
   "execution_count": 145,
   "id": "3ae15b55",
   "metadata": {},
   "outputs": [
    {
     "name": "stderr",
     "output_type": "stream",
     "text": [
      "C:\\Users\\Dell\\anaconda3\\lib\\site-packages\\sklearn\\utils\\deprecation.py:87: FutureWarning: Function get_feature_names is deprecated; get_feature_names is deprecated in 1.0 and will be removed in 1.2. Please use get_feature_names_out instead.\n",
      "  warnings.warn(msg, category=FutureWarning)\n"
     ]
    }
   ],
   "source": [
    "from sklearn.preprocessing import OneHotEncoder\n",
    "feature_to_encode = ['sp500']\n",
    "\n",
    "# Initialize the OneHotEncoder\n",
    "encoder = OneHotEncoder()\n",
    "\n",
    "# Fit the encoder on the selected feature and transform the data\n",
    "encoded_data = encoder.fit_transform(data[feature_to_encode]).toarray()\n",
    "\n",
    "# Create a new DataFrame with the encoded data\n",
    "encoded_df = pd.DataFrame(encoded_data, columns=encoder.get_feature_names(feature_to_encode))\n",
    "\n",
    "# Concatenate the original DataFrame with the encoded DataFrame\n",
    "data = pd.concat([data, encoded_df], axis=1)\n",
    "\n",
    "# Drop the original feature if needed\n",
    "data.drop(feature_to_encode, axis=1, inplace=True)\n"
   ]
  },
  {
   "cell_type": "markdown",
   "id": "96dfadb3",
   "metadata": {},
   "source": [
    "**Scaling features using Min Max Scalar method, excluding the target feature sales**"
   ]
  },
  {
   "cell_type": "code",
   "execution_count": 146,
   "id": "ba36ffc4",
   "metadata": {},
   "outputs": [],
   "source": [
    "from sklearn.preprocessing import MinMaxScaler\n",
    "\n",
    "features_to_scale = ['capital', 'patents', 'randd', 'employment', 'tobinq', 'value', 'institutions']\n",
    "\n",
    "# Initialize the MinMaxScaler\n",
    "scaler = MinMaxScaler()\n",
    "\n",
    "# Make a copy of original dataset before scaling\n",
    "data_scaled=data.copy()\n",
    "\n",
    "# Fit the scaler on the selected features and transform the data\n",
    "data_scaled[features_to_scale] = scaler.fit_transform(data[features_to_scale])\n"
   ]
  },
  {
   "cell_type": "code",
   "execution_count": 147,
   "id": "7770f45c",
   "metadata": {},
   "outputs": [
    {
     "data": {
      "text/html": [
       "<div>\n",
       "<style scoped>\n",
       "    .dataframe tbody tr th:only-of-type {\n",
       "        vertical-align: middle;\n",
       "    }\n",
       "\n",
       "    .dataframe tbody tr th {\n",
       "        vertical-align: top;\n",
       "    }\n",
       "\n",
       "    .dataframe thead th {\n",
       "        text-align: right;\n",
       "    }\n",
       "</style>\n",
       "<table border=\"1\" class=\"dataframe\">\n",
       "  <thead>\n",
       "    <tr style=\"text-align: right;\">\n",
       "      <th></th>\n",
       "      <th>sales</th>\n",
       "      <th>capital</th>\n",
       "      <th>patents</th>\n",
       "      <th>randd</th>\n",
       "      <th>employment</th>\n",
       "      <th>tobinq</th>\n",
       "      <th>value</th>\n",
       "      <th>institutions</th>\n",
       "      <th>sp500_no</th>\n",
       "      <th>sp500_yes</th>\n",
       "    </tr>\n",
       "  </thead>\n",
       "  <tbody>\n",
       "    <tr>\n",
       "      <th>0</th>\n",
       "      <td>826.995050</td>\n",
       "      <td>0.001725</td>\n",
       "      <td>0.008197</td>\n",
       "      <td>0.012558</td>\n",
       "      <td>0.003236</td>\n",
       "      <td>0.549797</td>\n",
       "      <td>0.017055</td>\n",
       "      <td>0.890405</td>\n",
       "      <td>1.0</td>\n",
       "      <td>0.0</td>\n",
       "    </tr>\n",
       "    <tr>\n",
       "      <th>1</th>\n",
       "      <td>407.753973</td>\n",
       "      <td>0.001304</td>\n",
       "      <td>0.001639</td>\n",
       "      <td>0.000000</td>\n",
       "      <td>0.002608</td>\n",
       "      <td>0.036476</td>\n",
       "      <td>0.002533</td>\n",
       "      <td>0.654687</td>\n",
       "      <td>1.0</td>\n",
       "      <td>0.0</td>\n",
       "    </tr>\n",
       "    <tr>\n",
       "      <th>2</th>\n",
       "      <td>8407.845588</td>\n",
       "      <td>0.066447</td>\n",
       "      <td>0.113115</td>\n",
       "      <td>0.108354</td>\n",
       "      <td>0.069856</td>\n",
       "      <td>0.255835</td>\n",
       "      <td>0.271703</td>\n",
       "      <td>0.529118</td>\n",
       "      <td>0.0</td>\n",
       "      <td>1.0</td>\n",
       "    </tr>\n",
       "    <tr>\n",
       "      <th>3</th>\n",
       "      <td>451.000010</td>\n",
       "      <td>0.002850</td>\n",
       "      <td>0.000820</td>\n",
       "      <td>0.002746</td>\n",
       "      <td>0.004312</td>\n",
       "      <td>0.009367</td>\n",
       "      <td>0.000641</td>\n",
       "      <td>0.298170</td>\n",
       "      <td>1.0</td>\n",
       "      <td>0.0</td>\n",
       "    </tr>\n",
       "    <tr>\n",
       "      <th>4</th>\n",
       "      <td>174.927981</td>\n",
       "      <td>0.001496</td>\n",
       "      <td>0.001639</td>\n",
       "      <td>0.000468</td>\n",
       "      <td>0.002731</td>\n",
       "      <td>0.047498</td>\n",
       "      <td>0.000687</td>\n",
       "      <td>0.548641</td>\n",
       "      <td>1.0</td>\n",
       "      <td>0.0</td>\n",
       "    </tr>\n",
       "    <tr>\n",
       "      <th>...</th>\n",
       "      <td>...</td>\n",
       "      <td>...</td>\n",
       "      <td>...</td>\n",
       "      <td>...</td>\n",
       "      <td>...</td>\n",
       "      <td>...</td>\n",
       "      <td>...</td>\n",
       "      <td>...</td>\n",
       "      <td>...</td>\n",
       "      <td>...</td>\n",
       "    </tr>\n",
       "    <tr>\n",
       "      <th>754</th>\n",
       "      <td>1253.900196</td>\n",
       "      <td>0.007565</td>\n",
       "      <td>0.026230</td>\n",
       "      <td>0.013572</td>\n",
       "      <td>0.031084</td>\n",
       "      <td>0.029096</td>\n",
       "      <td>0.002785</td>\n",
       "      <td>0.371603</td>\n",
       "      <td>0.0</td>\n",
       "      <td>1.0</td>\n",
       "    </tr>\n",
       "    <tr>\n",
       "      <th>755</th>\n",
       "      <td>171.821025</td>\n",
       "      <td>0.000786</td>\n",
       "      <td>0.000820</td>\n",
       "      <td>0.000001</td>\n",
       "      <td>0.002361</td>\n",
       "      <td>0.078532</td>\n",
       "      <td>0.002380</td>\n",
       "      <td>0.514809</td>\n",
       "      <td>1.0</td>\n",
       "      <td>0.0</td>\n",
       "    </tr>\n",
       "    <tr>\n",
       "      <th>756</th>\n",
       "      <td>202.726967</td>\n",
       "      <td>0.001323</td>\n",
       "      <td>0.010656</td>\n",
       "      <td>0.002460</td>\n",
       "      <td>0.002046</td>\n",
       "      <td>0.257066</td>\n",
       "      <td>0.006077</td>\n",
       "      <td>0.468663</td>\n",
       "      <td>1.0</td>\n",
       "      <td>0.0</td>\n",
       "    </tr>\n",
       "    <tr>\n",
       "      <th>757</th>\n",
       "      <td>785.687944</td>\n",
       "      <td>0.001482</td>\n",
       "      <td>0.004918</td>\n",
       "      <td>0.000020</td>\n",
       "      <td>0.004072</td>\n",
       "      <td>0.075771</td>\n",
       "      <td>0.003235</td>\n",
       "      <td>0.680976</td>\n",
       "      <td>0.0</td>\n",
       "      <td>1.0</td>\n",
       "    </tr>\n",
       "    <tr>\n",
       "      <th>758</th>\n",
       "      <td>22.701999</td>\n",
       "      <td>0.000152</td>\n",
       "      <td>0.004098</td>\n",
       "      <td>0.000610</td>\n",
       "      <td>0.000269</td>\n",
       "      <td>0.105330</td>\n",
       "      <td>0.000178</td>\n",
       "      <td>0.083195</td>\n",
       "      <td>1.0</td>\n",
       "      <td>0.0</td>\n",
       "    </tr>\n",
       "  </tbody>\n",
       "</table>\n",
       "<p>759 rows × 10 columns</p>\n",
       "</div>"
      ],
      "text/plain": [
       "           sales   capital   patents     randd  employment    tobinq  \\\n",
       "0     826.995050  0.001725  0.008197  0.012558    0.003236  0.549797   \n",
       "1     407.753973  0.001304  0.001639  0.000000    0.002608  0.036476   \n",
       "2    8407.845588  0.066447  0.113115  0.108354    0.069856  0.255835   \n",
       "3     451.000010  0.002850  0.000820  0.002746    0.004312  0.009367   \n",
       "4     174.927981  0.001496  0.001639  0.000468    0.002731  0.047498   \n",
       "..           ...       ...       ...       ...         ...       ...   \n",
       "754  1253.900196  0.007565  0.026230  0.013572    0.031084  0.029096   \n",
       "755   171.821025  0.000786  0.000820  0.000001    0.002361  0.078532   \n",
       "756   202.726967  0.001323  0.010656  0.002460    0.002046  0.257066   \n",
       "757   785.687944  0.001482  0.004918  0.000020    0.004072  0.075771   \n",
       "758    22.701999  0.000152  0.004098  0.000610    0.000269  0.105330   \n",
       "\n",
       "        value  institutions  sp500_no  sp500_yes  \n",
       "0    0.017055      0.890405       1.0        0.0  \n",
       "1    0.002533      0.654687       1.0        0.0  \n",
       "2    0.271703      0.529118       0.0        1.0  \n",
       "3    0.000641      0.298170       1.0        0.0  \n",
       "4    0.000687      0.548641       1.0        0.0  \n",
       "..        ...           ...       ...        ...  \n",
       "754  0.002785      0.371603       0.0        1.0  \n",
       "755  0.002380      0.514809       1.0        0.0  \n",
       "756  0.006077      0.468663       1.0        0.0  \n",
       "757  0.003235      0.680976       0.0        1.0  \n",
       "758  0.000178      0.083195       1.0        0.0  \n",
       "\n",
       "[759 rows x 10 columns]"
      ]
     },
     "execution_count": 147,
     "metadata": {},
     "output_type": "execute_result"
    }
   ],
   "source": [
    "data_scaled"
   ]
  },
  {
   "cell_type": "markdown",
   "id": "2c3ae3b6",
   "metadata": {},
   "source": [
    "### Train , Test Split 70:30 ratio and 'sales' as target varibable"
   ]
  },
  {
   "cell_type": "code",
   "execution_count": 149,
   "id": "053ce5e8",
   "metadata": {},
   "outputs": [],
   "source": [
    "from sklearn.model_selection import train_test_split\n",
    "\n",
    "features = ['capital', 'patents', 'randd', 'employment', 'sp500_yes', 'sp500_no', 'tobinq', 'value', 'institutions']\n",
    "\n",
    "# Split the data into training and testing sets\n",
    "train_data, test_data, train_target, test_target = train_test_split(data[features], data['sales'], test_size=0.3, random_state=123)\n"
   ]
  },
  {
   "cell_type": "markdown",
   "id": "e6c8d664",
   "metadata": {},
   "source": [
    "**Check the shape of train and test split datasets**"
   ]
  },
  {
   "cell_type": "code",
   "execution_count": 152,
   "id": "0b612b0d",
   "metadata": {},
   "outputs": [
    {
     "data": {
      "text/plain": [
       "((531, 9), (228, 9))"
      ]
     },
     "execution_count": 152,
     "metadata": {},
     "output_type": "execute_result"
    }
   ],
   "source": [
    "train_data.shape, test_data.shape"
   ]
  },
  {
   "cell_type": "markdown",
   "id": "037055d8",
   "metadata": {},
   "source": [
    "### Linear regression model"
   ]
  },
  {
   "cell_type": "code",
   "execution_count": 153,
   "id": "daf66de5",
   "metadata": {},
   "outputs": [],
   "source": [
    "from sklearn.linear_model import LinearRegression\n",
    "\n",
    "# Initialize the linear regression model\n",
    "model = LinearRegression()\n",
    "\n",
    "# Fit the model on the training data\n",
    "model.fit(train_data, train_target)\n",
    "\n",
    "# Predict the target variable for the test data\n",
    "predictions = model.predict(test_data)"
   ]
  },
  {
   "cell_type": "markdown",
   "id": "4296fa5e",
   "metadata": {},
   "source": [
    "### Performance Metrics"
   ]
  },
  {
   "cell_type": "code",
   "execution_count": 155,
   "id": "9dd059e1",
   "metadata": {},
   "outputs": [
    {
     "name": "stdout",
     "output_type": "stream",
     "text": [
      "Train R-squared: 0.9476401687658986\n",
      "Test R-squared: 0.7875381564132634\n",
      "Train RMSE: 2160.0405746364313\n",
      "Test RMSE: 3102.9851835145473\n"
     ]
    }
   ],
   "source": [
    "from sklearn.metrics import r2_score, mean_squared_error\n",
    "\n",
    "# Calculate R-squared for train and test sets\n",
    "train_r2 = r2_score(train_target, model.predict(train_data))\n",
    "test_r2 = r2_score(test_target, predictions)\n",
    "\n",
    "# Calculate RMSE for train and test sets\n",
    "train_rmse = mean_squared_error(train_target, model.predict(train_data), squared=False)\n",
    "test_rmse = mean_squared_error(test_target, predictions, squared=False)\n",
    "\n",
    "# Print the results\n",
    "print(\"Train R-squared:\", train_r2)\n",
    "print(\"Test R-squared:\", test_r2)\n",
    "print(\"Train RMSE:\", train_rmse)\n",
    "print(\"Test RMSE:\", test_rmse)"
   ]
  },
  {
   "cell_type": "markdown",
   "id": "1b924f1a",
   "metadata": {},
   "source": [
    "### Inference"
   ]
  },
  {
   "cell_type": "markdown",
   "id": "b1e7fe9c",
   "metadata": {},
   "source": [
    "Based on the provided R-squared and RMSE values for the linear regression model on the train and test sets, we can draw the following business inferences:\n",
    "\n",
    "1. Train R-squared: 0.9476401687658986\n",
    "   Test R-squared: 0.7875381564132634\n",
    "   - The train R-squared value of approximately 0.948 indicates that the linear regression model can explain about 94.8% of the variance in the target variable (sales) using the training data. This suggests a strong relationship between the features and the target variable in the training set.\n",
    "   - The test R-squared value of approximately 0.788 indicates that the linear regression model can explain about 78.8% of the variance in the target variable using the test data. This suggests a reasonably good fit of the model to the test data, but it may not perform as well as on the training data.\n",
    "\n",
    "2. Train RMSE: 2160.0405746364313\n",
    "   Test RMSE: 3102.9851835145473\n",
    "   - The train RMSE value of 2160.04 indicates that, on average, the predictions of the linear regression model have an error of approximately 2160 units of the sales variable when compared to the actual values in the training set.\n",
    "   - The test RMSE value of 3102.99 indicates that, on average, the predictions of the linear regression model have an error of approximately 3103 units of the sales variable when compared to the actual values in the test set.\n",
    "   - The lower the RMSE, the better the model's predictive performance. In this case, the test RMSE is higher than the train RMSE, suggesting that the model may be slightly overfitting to the training data and not generalizing as well to the test data.\n",
    "\n",
    "Overall, the business inferences from these performance metrics suggest that the linear regression model has a good fit to the training data, explaining a significant portion of the variance in the sales variable. However, the model's performance on the test data is slightly lower, indicating the possibility of some degree of overfitting. It is important to further evaluate and fine-tune the model to improve its generalization and predictive performance on unseen data."
   ]
  },
  {
   "cell_type": "code",
   "execution_count": null,
   "id": "6e2e3ee4",
   "metadata": {},
   "outputs": [],
   "source": []
  }
 ],
 "metadata": {
  "kernelspec": {
   "display_name": "Python 3 (ipykernel)",
   "language": "python",
   "name": "python3"
  },
  "language_info": {
   "codemirror_mode": {
    "name": "ipython",
    "version": 3
   },
   "file_extension": ".py",
   "mimetype": "text/x-python",
   "name": "python",
   "nbconvert_exporter": "python",
   "pygments_lexer": "ipython3",
   "version": "3.9.12"
  }
 },
 "nbformat": 4,
 "nbformat_minor": 5
}
