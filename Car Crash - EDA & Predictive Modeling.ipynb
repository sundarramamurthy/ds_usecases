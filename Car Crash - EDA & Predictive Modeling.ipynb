{
 "cells": [
  {
   "cell_type": "markdown",
   "id": "1f39ed52",
   "metadata": {},
   "source": [
    "## Problem Statement (as given):\n",
    "- You are hired by the Government to do an analysis of car crashes. \n",
    "- You are provided details of car crashes, among which some people survived and some didn't. \n",
    "- You have to help the government in predicting whether a person will survive or not on the basis of the information given in the data set so as to provide insights that will help the government to make stronger laws for car manufacturers to ensure safety measures. Also, find out the important factors on the basis of which you made your predictions."
   ]
  },
  {
   "cell_type": "markdown",
   "id": "ff58e43e",
   "metadata": {},
   "source": [
    "# Data Dictionary\n",
    "1. dvcat: factor with levels (estimated impact speeds) 1-9km/h, 10-24, 25-39, 40-54, 55+\n",
    "2. weight: Observation weights, albeit of uncertain accuracy, designed to account for varying sampling probabilities. (The inverse probability weighting estimator can be used to demonstrate causality when the researcher cannot conduct a controlled experiment but has observed data to model)\n",
    "3. Survived: factor with levels Survived or not_survived\n",
    "4. airbag: a factor with levels none or airbag\n",
    "5. seatbelt: a factor with levels none or belted\n",
    "6. frontal: a numeric vector; 0 = non-frontal, 1=frontal impact\n",
    "7. sex: a factor with levels f: Female or m: Male\n",
    "8. ageOFocc: age of occupant in years\n",
    "9. yearacc: year of accident\n",
    "10. yearVeh: Year of model of vehicle; a numeric vector\n",
    "11. abcat: Did one or more (driver or passenger) airbag(s) deploy? This factor has levels deploy, nodeploy and unavail\n",
    "12. occRole: a factor with levels driver or pass: passenger\n",
    "13. deploy: a numeric vector: 0 if an airbag was unavailable or did not deploy; 1 if one or more bags deployed.\n",
    "14. injSeverity: a numeric vector; 0: none, 1: possible injury, 2: no incapacity, 3: incapacity, 4: killed; 5: unknown, 6: prior death\n",
    "15. caseid: character, created by pasting together the populations sampling unit, the case number, and the vehicle number. Within each year, use this to uniquely identify the vehicle."
   ]
  },
  {
   "cell_type": "code",
   "execution_count": 86,
   "id": "24e00762",
   "metadata": {},
   "outputs": [],
   "source": [
    "import pandas as pd\n",
    "import numpy as np\n",
    "import matplotlib.pyplot as plt\n",
    "import seaborn as sns\n",
    "import warnings\n",
    "warnings.filterwarnings('ignore')\n",
    "\n",
    "\n",
    "# Read the dataset\n",
    "df = pd.read_csv('Car_Crash.csv')  "
   ]
  },
  {
   "cell_type": "markdown",
   "id": "81c45197",
   "metadata": {},
   "source": [
    "### Descriptive statistics"
   ]
  },
  {
   "cell_type": "code",
   "execution_count": 87,
   "id": "5619b8c4",
   "metadata": {},
   "outputs": [
    {
     "data": {
      "text/html": [
       "<div>\n",
       "<style scoped>\n",
       "    .dataframe tbody tr th:only-of-type {\n",
       "        vertical-align: middle;\n",
       "    }\n",
       "\n",
       "    .dataframe tbody tr th {\n",
       "        vertical-align: top;\n",
       "    }\n",
       "\n",
       "    .dataframe thead th {\n",
       "        text-align: right;\n",
       "    }\n",
       "</style>\n",
       "<table border=\"1\" class=\"dataframe\">\n",
       "  <thead>\n",
       "    <tr style=\"text-align: right;\">\n",
       "      <th></th>\n",
       "      <th>Unnamed: 0</th>\n",
       "      <th>dvcat</th>\n",
       "      <th>weight</th>\n",
       "      <th>Survived</th>\n",
       "      <th>airbag</th>\n",
       "      <th>seatbelt</th>\n",
       "      <th>frontal</th>\n",
       "      <th>sex</th>\n",
       "      <th>ageOFocc</th>\n",
       "      <th>yearacc</th>\n",
       "      <th>yearVeh</th>\n",
       "      <th>abcat</th>\n",
       "      <th>occRole</th>\n",
       "      <th>deploy</th>\n",
       "      <th>injSeverity</th>\n",
       "      <th>caseid</th>\n",
       "    </tr>\n",
       "  </thead>\n",
       "  <tbody>\n",
       "    <tr>\n",
       "      <th>0</th>\n",
       "      <td>0</td>\n",
       "      <td>55+</td>\n",
       "      <td>27.078</td>\n",
       "      <td>Not_Survived</td>\n",
       "      <td>none</td>\n",
       "      <td>none</td>\n",
       "      <td>1</td>\n",
       "      <td>m</td>\n",
       "      <td>32</td>\n",
       "      <td>1997</td>\n",
       "      <td>1987</td>\n",
       "      <td>unavail</td>\n",
       "      <td>driver</td>\n",
       "      <td>0</td>\n",
       "      <td>4.0</td>\n",
       "      <td>02:13:02</td>\n",
       "    </tr>\n",
       "    <tr>\n",
       "      <th>1</th>\n",
       "      <td>1</td>\n",
       "      <td>25-39</td>\n",
       "      <td>89.627</td>\n",
       "      <td>Not_Survived</td>\n",
       "      <td>airbag</td>\n",
       "      <td>belted</td>\n",
       "      <td>0</td>\n",
       "      <td>f</td>\n",
       "      <td>54</td>\n",
       "      <td>1997</td>\n",
       "      <td>1994</td>\n",
       "      <td>nodeploy</td>\n",
       "      <td>driver</td>\n",
       "      <td>0</td>\n",
       "      <td>4.0</td>\n",
       "      <td>02:17:01</td>\n",
       "    </tr>\n",
       "    <tr>\n",
       "      <th>2</th>\n",
       "      <td>2</td>\n",
       "      <td>55+</td>\n",
       "      <td>27.078</td>\n",
       "      <td>Not_Survived</td>\n",
       "      <td>none</td>\n",
       "      <td>belted</td>\n",
       "      <td>1</td>\n",
       "      <td>m</td>\n",
       "      <td>67</td>\n",
       "      <td>1997</td>\n",
       "      <td>1992</td>\n",
       "      <td>unavail</td>\n",
       "      <td>driver</td>\n",
       "      <td>0</td>\n",
       "      <td>4.0</td>\n",
       "      <td>0.138206019</td>\n",
       "    </tr>\n",
       "    <tr>\n",
       "      <th>3</th>\n",
       "      <td>3</td>\n",
       "      <td>55+</td>\n",
       "      <td>27.078</td>\n",
       "      <td>Not_Survived</td>\n",
       "      <td>none</td>\n",
       "      <td>belted</td>\n",
       "      <td>1</td>\n",
       "      <td>f</td>\n",
       "      <td>64</td>\n",
       "      <td>1997</td>\n",
       "      <td>1992</td>\n",
       "      <td>unavail</td>\n",
       "      <td>pass</td>\n",
       "      <td>0</td>\n",
       "      <td>4.0</td>\n",
       "      <td>0.138206019</td>\n",
       "    </tr>\n",
       "    <tr>\n",
       "      <th>4</th>\n",
       "      <td>4</td>\n",
       "      <td>55+</td>\n",
       "      <td>13.374</td>\n",
       "      <td>Not_Survived</td>\n",
       "      <td>none</td>\n",
       "      <td>none</td>\n",
       "      <td>1</td>\n",
       "      <td>m</td>\n",
       "      <td>23</td>\n",
       "      <td>1997</td>\n",
       "      <td>1986</td>\n",
       "      <td>unavail</td>\n",
       "      <td>driver</td>\n",
       "      <td>0</td>\n",
       "      <td>4.0</td>\n",
       "      <td>04:58:01</td>\n",
       "    </tr>\n",
       "    <tr>\n",
       "      <th>...</th>\n",
       "      <td>...</td>\n",
       "      <td>...</td>\n",
       "      <td>...</td>\n",
       "      <td>...</td>\n",
       "      <td>...</td>\n",
       "      <td>...</td>\n",
       "      <td>...</td>\n",
       "      <td>...</td>\n",
       "      <td>...</td>\n",
       "      <td>...</td>\n",
       "      <td>...</td>\n",
       "      <td>...</td>\n",
       "      <td>...</td>\n",
       "      <td>...</td>\n",
       "      <td>...</td>\n",
       "      <td>...</td>\n",
       "    </tr>\n",
       "    <tr>\n",
       "      <th>11212</th>\n",
       "      <td>11212</td>\n",
       "      <td>25-39</td>\n",
       "      <td>3179.688</td>\n",
       "      <td>survived</td>\n",
       "      <td>none</td>\n",
       "      <td>belted</td>\n",
       "      <td>1</td>\n",
       "      <td>m</td>\n",
       "      <td>17</td>\n",
       "      <td>2002</td>\n",
       "      <td>1985</td>\n",
       "      <td>unavail</td>\n",
       "      <td>driver</td>\n",
       "      <td>0</td>\n",
       "      <td>0.0</td>\n",
       "      <td>82:107:1</td>\n",
       "    </tr>\n",
       "    <tr>\n",
       "      <th>11213</th>\n",
       "      <td>11213</td>\n",
       "      <td>Oct-24</td>\n",
       "      <td>71.228</td>\n",
       "      <td>survived</td>\n",
       "      <td>airbag</td>\n",
       "      <td>belted</td>\n",
       "      <td>1</td>\n",
       "      <td>m</td>\n",
       "      <td>54</td>\n",
       "      <td>2002</td>\n",
       "      <td>2002</td>\n",
       "      <td>nodeploy</td>\n",
       "      <td>driver</td>\n",
       "      <td>0</td>\n",
       "      <td>2.0</td>\n",
       "      <td>82:108:2</td>\n",
       "    </tr>\n",
       "    <tr>\n",
       "      <th>11214</th>\n",
       "      <td>11214</td>\n",
       "      <td>Oct-24</td>\n",
       "      <td>10.474</td>\n",
       "      <td>survived</td>\n",
       "      <td>airbag</td>\n",
       "      <td>belted</td>\n",
       "      <td>1</td>\n",
       "      <td>f</td>\n",
       "      <td>27</td>\n",
       "      <td>2002</td>\n",
       "      <td>1990</td>\n",
       "      <td>deploy</td>\n",
       "      <td>driver</td>\n",
       "      <td>1</td>\n",
       "      <td>3.0</td>\n",
       "      <td>82:110:1</td>\n",
       "    </tr>\n",
       "    <tr>\n",
       "      <th>11215</th>\n",
       "      <td>11215</td>\n",
       "      <td>25-39</td>\n",
       "      <td>10.474</td>\n",
       "      <td>survived</td>\n",
       "      <td>airbag</td>\n",
       "      <td>belted</td>\n",
       "      <td>1</td>\n",
       "      <td>f</td>\n",
       "      <td>18</td>\n",
       "      <td>2002</td>\n",
       "      <td>1999</td>\n",
       "      <td>deploy</td>\n",
       "      <td>driver</td>\n",
       "      <td>1</td>\n",
       "      <td>0.0</td>\n",
       "      <td>82:110:2</td>\n",
       "    </tr>\n",
       "    <tr>\n",
       "      <th>11216</th>\n",
       "      <td>11216</td>\n",
       "      <td>25-39</td>\n",
       "      <td>10.474</td>\n",
       "      <td>survived</td>\n",
       "      <td>airbag</td>\n",
       "      <td>belted</td>\n",
       "      <td>1</td>\n",
       "      <td>m</td>\n",
       "      <td>17</td>\n",
       "      <td>2002</td>\n",
       "      <td>1999</td>\n",
       "      <td>deploy</td>\n",
       "      <td>pass</td>\n",
       "      <td>1</td>\n",
       "      <td>0.0</td>\n",
       "      <td>82:110:2</td>\n",
       "    </tr>\n",
       "  </tbody>\n",
       "</table>\n",
       "<p>11217 rows × 16 columns</p>\n",
       "</div>"
      ],
      "text/plain": [
       "       Unnamed: 0   dvcat    weight      Survived  airbag seatbelt  frontal  \\\n",
       "0               0     55+    27.078  Not_Survived    none     none        1   \n",
       "1               1   25-39    89.627  Not_Survived  airbag   belted        0   \n",
       "2               2     55+    27.078  Not_Survived    none   belted        1   \n",
       "3               3     55+    27.078  Not_Survived    none   belted        1   \n",
       "4               4     55+    13.374  Not_Survived    none     none        1   \n",
       "...           ...     ...       ...           ...     ...      ...      ...   \n",
       "11212       11212   25-39  3179.688      survived    none   belted        1   \n",
       "11213       11213  Oct-24    71.228      survived  airbag   belted        1   \n",
       "11214       11214  Oct-24    10.474      survived  airbag   belted        1   \n",
       "11215       11215   25-39    10.474      survived  airbag   belted        1   \n",
       "11216       11216   25-39    10.474      survived  airbag   belted        1   \n",
       "\n",
       "      sex  ageOFocc  yearacc  yearVeh     abcat occRole  deploy  injSeverity  \\\n",
       "0       m        32     1997     1987   unavail  driver       0          4.0   \n",
       "1       f        54     1997     1994  nodeploy  driver       0          4.0   \n",
       "2       m        67     1997     1992   unavail  driver       0          4.0   \n",
       "3       f        64     1997     1992   unavail    pass       0          4.0   \n",
       "4       m        23     1997     1986   unavail  driver       0          4.0   \n",
       "...    ..       ...      ...      ...       ...     ...     ...          ...   \n",
       "11212   m        17     2002     1985   unavail  driver       0          0.0   \n",
       "11213   m        54     2002     2002  nodeploy  driver       0          2.0   \n",
       "11214   f        27     2002     1990    deploy  driver       1          3.0   \n",
       "11215   f        18     2002     1999    deploy  driver       1          0.0   \n",
       "11216   m        17     2002     1999    deploy    pass       1          0.0   \n",
       "\n",
       "            caseid  \n",
       "0         02:13:02  \n",
       "1         02:17:01  \n",
       "2      0.138206019  \n",
       "3      0.138206019  \n",
       "4         04:58:01  \n",
       "...            ...  \n",
       "11212     82:107:1  \n",
       "11213     82:108:2  \n",
       "11214     82:110:1  \n",
       "11215     82:110:2  \n",
       "11216     82:110:2  \n",
       "\n",
       "[11217 rows x 16 columns]"
      ]
     },
     "execution_count": 87,
     "metadata": {},
     "output_type": "execute_result"
    }
   ],
   "source": [
    "df"
   ]
  },
  {
   "cell_type": "markdown",
   "id": "83884f1f",
   "metadata": {},
   "source": [
    "### Drop the unnecessary column "
   ]
  },
  {
   "cell_type": "code",
   "execution_count": 88,
   "id": "2b2781af",
   "metadata": {},
   "outputs": [],
   "source": [
    "df.drop([\"Unnamed: 0\"], inplace=True,axis=1)"
   ]
  },
  {
   "cell_type": "code",
   "execution_count": 89,
   "id": "eb8750c9",
   "metadata": {},
   "outputs": [],
   "source": [
    "# Replace the value of dvcat \"Oct-24 with 10-24 it may issue with CSV data format\"\n",
    "df = df.replace(to_replace=\"Oct-24\",value=\"10-24\")"
   ]
  },
  {
   "cell_type": "code",
   "execution_count": 90,
   "id": "fa654dec",
   "metadata": {},
   "outputs": [
    {
     "name": "stdout",
     "output_type": "stream",
     "text": [
      "<class 'pandas.core.frame.DataFrame'>\n",
      "RangeIndex: 11217 entries, 0 to 11216\n",
      "Data columns (total 15 columns):\n",
      " #   Column       Non-Null Count  Dtype  \n",
      "---  ------       --------------  -----  \n",
      " 0   dvcat        11217 non-null  object \n",
      " 1   weight       11217 non-null  float64\n",
      " 2   Survived     11217 non-null  object \n",
      " 3   airbag       11217 non-null  object \n",
      " 4   seatbelt     11217 non-null  object \n",
      " 5   frontal      11217 non-null  int64  \n",
      " 6   sex          11217 non-null  object \n",
      " 7   ageOFocc     11217 non-null  int64  \n",
      " 8   yearacc      11217 non-null  int64  \n",
      " 9   yearVeh      11217 non-null  int64  \n",
      " 10  abcat        11217 non-null  object \n",
      " 11  occRole      11217 non-null  object \n",
      " 12  deploy       11217 non-null  int64  \n",
      " 13  injSeverity  11140 non-null  float64\n",
      " 14  caseid       11217 non-null  object \n",
      "dtypes: float64(2), int64(5), object(8)\n",
      "memory usage: 1.3+ MB\n"
     ]
    }
   ],
   "source": [
    "df.info()"
   ]
  },
  {
   "cell_type": "markdown",
   "id": "dc4f2503",
   "metadata": {},
   "source": [
    "### Basic Dataset Insight\n",
    "- The dataset contains 1217 observation and 16 features.\n",
    "- caseid is a unique identifier of each observation\n",
    "- There are 2 float, 5 integer and 8 categorical features"
   ]
  },
  {
   "cell_type": "code",
   "execution_count": 55,
   "id": "98269bee",
   "metadata": {},
   "outputs": [
    {
     "data": {
      "text/html": [
       "<div>\n",
       "<style scoped>\n",
       "    .dataframe tbody tr th:only-of-type {\n",
       "        vertical-align: middle;\n",
       "    }\n",
       "\n",
       "    .dataframe tbody tr th {\n",
       "        vertical-align: top;\n",
       "    }\n",
       "\n",
       "    .dataframe thead th {\n",
       "        text-align: right;\n",
       "    }\n",
       "</style>\n",
       "<table border=\"1\" class=\"dataframe\">\n",
       "  <thead>\n",
       "    <tr style=\"text-align: right;\">\n",
       "      <th></th>\n",
       "      <th>weight</th>\n",
       "      <th>frontal</th>\n",
       "      <th>ageOFocc</th>\n",
       "      <th>yearacc</th>\n",
       "      <th>yearVeh</th>\n",
       "      <th>deploy</th>\n",
       "      <th>injSeverity</th>\n",
       "    </tr>\n",
       "  </thead>\n",
       "  <tbody>\n",
       "    <tr>\n",
       "      <th>count</th>\n",
       "      <td>11217.000000</td>\n",
       "      <td>11217.000000</td>\n",
       "      <td>11217.000000</td>\n",
       "      <td>11217.000000</td>\n",
       "      <td>11217.000000</td>\n",
       "      <td>11217.000000</td>\n",
       "      <td>11140.000000</td>\n",
       "    </tr>\n",
       "    <tr>\n",
       "      <th>mean</th>\n",
       "      <td>431.405309</td>\n",
       "      <td>0.644022</td>\n",
       "      <td>37.427654</td>\n",
       "      <td>2001.103236</td>\n",
       "      <td>1994.177944</td>\n",
       "      <td>0.389141</td>\n",
       "      <td>1.825583</td>\n",
       "    </tr>\n",
       "    <tr>\n",
       "      <th>std</th>\n",
       "      <td>1406.202941</td>\n",
       "      <td>0.478830</td>\n",
       "      <td>18.192429</td>\n",
       "      <td>1.056805</td>\n",
       "      <td>5.658704</td>\n",
       "      <td>0.487577</td>\n",
       "      <td>1.378535</td>\n",
       "    </tr>\n",
       "    <tr>\n",
       "      <th>min</th>\n",
       "      <td>0.000000</td>\n",
       "      <td>0.000000</td>\n",
       "      <td>16.000000</td>\n",
       "      <td>1997.000000</td>\n",
       "      <td>1953.000000</td>\n",
       "      <td>0.000000</td>\n",
       "      <td>0.000000</td>\n",
       "    </tr>\n",
       "    <tr>\n",
       "      <th>25%</th>\n",
       "      <td>28.292000</td>\n",
       "      <td>0.000000</td>\n",
       "      <td>22.000000</td>\n",
       "      <td>2001.000000</td>\n",
       "      <td>1991.000000</td>\n",
       "      <td>0.000000</td>\n",
       "      <td>1.000000</td>\n",
       "    </tr>\n",
       "    <tr>\n",
       "      <th>50%</th>\n",
       "      <td>82.195000</td>\n",
       "      <td>1.000000</td>\n",
       "      <td>33.000000</td>\n",
       "      <td>2001.000000</td>\n",
       "      <td>1995.000000</td>\n",
       "      <td>0.000000</td>\n",
       "      <td>2.000000</td>\n",
       "    </tr>\n",
       "    <tr>\n",
       "      <th>75%</th>\n",
       "      <td>324.056000</td>\n",
       "      <td>1.000000</td>\n",
       "      <td>48.000000</td>\n",
       "      <td>2002.000000</td>\n",
       "      <td>1999.000000</td>\n",
       "      <td>1.000000</td>\n",
       "      <td>3.000000</td>\n",
       "    </tr>\n",
       "    <tr>\n",
       "      <th>max</th>\n",
       "      <td>31694.040000</td>\n",
       "      <td>1.000000</td>\n",
       "      <td>97.000000</td>\n",
       "      <td>2002.000000</td>\n",
       "      <td>2003.000000</td>\n",
       "      <td>1.000000</td>\n",
       "      <td>5.000000</td>\n",
       "    </tr>\n",
       "  </tbody>\n",
       "</table>\n",
       "</div>"
      ],
      "text/plain": [
       "             weight       frontal      ageOFocc       yearacc       yearVeh  \\\n",
       "count  11217.000000  11217.000000  11217.000000  11217.000000  11217.000000   \n",
       "mean     431.405309      0.644022     37.427654   2001.103236   1994.177944   \n",
       "std     1406.202941      0.478830     18.192429      1.056805      5.658704   \n",
       "min        0.000000      0.000000     16.000000   1997.000000   1953.000000   \n",
       "25%       28.292000      0.000000     22.000000   2001.000000   1991.000000   \n",
       "50%       82.195000      1.000000     33.000000   2001.000000   1995.000000   \n",
       "75%      324.056000      1.000000     48.000000   2002.000000   1999.000000   \n",
       "max    31694.040000      1.000000     97.000000   2002.000000   2003.000000   \n",
       "\n",
       "             deploy   injSeverity  \n",
       "count  11217.000000  11140.000000  \n",
       "mean       0.389141      1.825583  \n",
       "std        0.487577      1.378535  \n",
       "min        0.000000      0.000000  \n",
       "25%        0.000000      1.000000  \n",
       "50%        0.000000      2.000000  \n",
       "75%        1.000000      3.000000  \n",
       "max        1.000000      5.000000  "
      ]
     },
     "execution_count": 55,
     "metadata": {},
     "output_type": "execute_result"
    }
   ],
   "source": [
    "df.describe()"
   ]
  },
  {
   "cell_type": "code",
   "execution_count": 12,
   "id": "7be378ba",
   "metadata": {},
   "outputs": [
    {
     "name": "stdout",
     "output_type": "stream",
     "text": [
      "\n",
      "Null Value Condition Check:\n",
      "dvcat           0\n",
      "weight          0\n",
      "Survived        0\n",
      "airbag          0\n",
      "seatbelt        0\n",
      "frontal         0\n",
      "sex             0\n",
      "ageOFocc        0\n",
      "yearacc         0\n",
      "yearVeh         0\n",
      "abcat           0\n",
      "occRole         0\n",
      "deploy          0\n",
      "injSeverity    77\n",
      "caseid          0\n",
      "dtype: int64\n"
     ]
    }
   ],
   "source": [
    "# Null value condition check\n",
    "print(\"\\nNull Value Condition Check:\")\n",
    "print(df.isnull().sum())"
   ]
  },
  {
   "cell_type": "markdown",
   "id": "bd739aeb",
   "metadata": {},
   "source": [
    "\n",
    "### Inference on null values\n"
   ]
  },
  {
   "cell_type": "code",
   "execution_count": 20,
   "id": "4c7f0eb3",
   "metadata": {},
   "outputs": [
    {
     "name": "stdout",
     "output_type": "stream",
     "text": [
      "\n",
      "Inference on Null Values:\n",
      "Null values can indicate missing information in the dataset. Depending on the significance and extent of missing data, further steps like imputation or removal may be required.\n",
      "injSeverity is the only fearure having ***0.7%*** of Null values in the provided dataset\n"
     ]
    }
   ],
   "source": [
    "\n",
    "print(\"\\nInference on Null Values:\")\n",
    "print(\"Null values can indicate missing information in the dataset. Depending on the significance and extent of missing data, further steps like imputation or removal may be required.\")\n",
    "print(\"injSeverity is the only fearure having ***0.7%*** of Null values in the provided dataset\")\n"
   ]
  },
  {
   "cell_type": "markdown",
   "id": "c712f9d6",
   "metadata": {},
   "source": [
    "### Univariate analysis"
   ]
  },
  {
   "cell_type": "code",
   "execution_count": 23,
   "id": "b3214086",
   "metadata": {},
   "outputs": [
    {
     "data": {
      "image/png": "[encoded data removed]",
      "text/plain": [
       "<Figure size 432x288 with 1 Axes>"
      ]
     },
     "metadata": {
      "needs_background": "light"
     },
     "output_type": "display_data"
    }
   ],
   "source": [
    "# Histogram of Age of Occupant\n",
    "df['ageOFocc'].hist()\n",
    "plt.xlabel('Age')\n",
    "plt.ylabel('Frequency')\n",
    "plt.title('Distribution of Age of Occupant')\n",
    "plt.show()"
   ]
  },
  {
   "cell_type": "markdown",
   "id": "9d37fe41",
   "metadata": {},
   "source": [
    "- The distribution of car crashes among different age groups provides valuable insights into the involvement of specific age demographics in accidents. Based on the given information, here are some possible insights:\n",
    "\n",
    "1. High Incidence among Young Drivers: The fact that there are 3,500 cases involving occupants under the age of 20 suggests a relatively high incidence of car crashes among young drivers. This highlights the importance of targeting road safety education and awareness programs towards this age group. Implementing stricter licensing requirements, providing driver training programs, and promoting safe driving practices among young drivers can help reduce the number of accidents.\n",
    "\n",
    "2. Focus on Early Adulthood Age Group: With 2,000 cases involving occupants aged 21 to 30, it indicates that early adulthood is a significant period where individuals are prone to car crashes. This finding suggests the need for tailored interventions that address the specific challenges faced by young adults, such as distracted driving, risk-taking behavior, and lack of experience. Enhancing driver education programs, promoting defensive driving techniques, and raising awareness about the consequences of unsafe driving behaviors can be effective strategies in this age group.\n",
    "\n",
    "3. Continuing Risk in the 31-40 Age Range: The presence of 1,500 cases involving occupants aged 31 to 40 suggests that car crash risks persist into adulthood. This insight emphasizes the importance of ongoing driver safety initiatives, even beyond the early adulthood phase. Encouraging defensive driving practices, providing refresher courses for experienced drivers, and promoting awareness of changing road conditions and technologies can contribute to reducing accidents in this age range.\n",
    "\n",
    "4. Targeted Interventions: By understanding the distribution of car crashes across age groups, policymakers and safety organizations can develop targeted interventions. For example, creating campaigns tailored to young drivers can focus on the specific risks they face, such as distractions from mobile devices or peer pressure. Similarly, initiatives for adults aged 31-40 can address issues like driver fatigue due to long work hours or juggling family responsibilities.\n",
    "\n",
    "5. Allocation of Resources: The distribution of car crashes across different age groups can guide the allocation of resources and investments in road safety measures. For instance, based on the number of cases, additional resources can be directed towards implementing safety technologies in vehicles popular among young drivers or improving road infrastructure in areas with high accident rates involving individuals in their 30s.\n",
    "\n",
    "- These insights highlight the importance of understanding the age distribution of car crashes and tailoring interventions to address the specific needs and challenges faced by different age groups. It is crucial to combine this information with additional analysis and context from the dataset to develop comprehensive and effective strategies for improving road safety."
   ]
  },
  {
   "cell_type": "code",
   "execution_count": 25,
   "id": "f7bf22bb",
   "metadata": {},
   "outputs": [
    {
     "data": {
      "image/png": "[encoded data removed]",
      "text/plain": [
       "<Figure size 432x288 with 1 Axes>"
      ]
     },
     "metadata": {
      "needs_background": "light"
     },
     "output_type": "display_data"
    }
   ],
   "source": [
    "# Histogram of Observation weights\n",
    "df['weight'].hist()\n",
    "plt.xlabel('weights')\n",
    "plt.ylabel('Frequency')\n",
    "plt.title('Distribution of Observation weights')\n",
    "plt.show()"
   ]
  },
  {
   "cell_type": "markdown",
   "id": "302c86ff",
   "metadata": {},
   "source": [
    "- The observation weights distribution in the range of 0 to 30000, with a significant frequency of 11000 instances falling within the 0 to 5000 range, provides insights into the importance and representation of individual observations in the dataset. Here are some potential implications:\n",
    "\n",
    "1. Varying Sampling Probabilities: The observation weights are designed to account for varying sampling probabilities. The presence of a wide range of weights suggests that the dataset may have been collected using different sampling strategies or methodologies. Some observations may have higher weights, indicating that they are more representative of the population or carry more significance in the analysis.\n",
    "\n",
    "2. Weighted Analysis: The use of observation weights allows for the application of statistical techniques that account for the sampling design. Researchers can employ techniques like inverse probability weighting to adjust the impact of each observation in the analysis and obtain more accurate estimates or make unbiased inferences about the population.\n",
    "\n",
    "3. Importance of Individual Observations: Observations with higher weights, particularly those falling within the 0 to 5000 range with a frequency of 11000, indicate the presence of influential or critical cases in the dataset. These cases may represent rare events, instances of particular interest, or have a higher impact on the analysis due to their sampling weight. Analyzing and understanding these cases can provide valuable insights into specific scenarios or subgroups within the dataset.\n",
    "\n",
    "4. Effect on Statistical Inferences: The distribution of observation weights may affect the precision and generalizability of statistical inferences drawn from the dataset. Researchers should account for the weights during analysis to ensure that results accurately reflect the underlying population and avoid potential biases caused by unequal sampling probabilities.\n",
    "\n",
    "5. Data Quality and Representativeness: The observation weights can also serve as an indicator of data quality and representativeness. Researchers should examine the weighting distribution to assess if any particular range or group of observations is overrepresented or underrepresented. Large weights or extreme values might warrant further investigation to ensure the validity and reliability of the dataset.\n",
    "\n",
    "- Understanding the distribution of observation weights helps researchers and analysts appropriately handle and interpret the data. It allows for more robust statistical analyses, enables the identification of influential cases, and ensures accurate representation of the population of interest."
   ]
  },
  {
   "cell_type": "code",
   "execution_count": 31,
   "id": "195cc63d",
   "metadata": {},
   "outputs": [
    {
     "data": {
      "image/png": "[encoded data removed]",
      "text/plain": [
       "<Figure size 432x288 with 1 Axes>"
      ]
     },
     "metadata": {
      "needs_background": "light"
     },
     "output_type": "display_data"
    }
   ],
   "source": [
    "# Histogram of Year of accident\n",
    "df['yearacc'].hist()\n",
    "plt.xlabel('yearacc')\n",
    "plt.ylabel('Frequency')\n",
    "plt.title('Distribution of year of accident')\n",
    "plt.show()"
   ]
  },
  {
   "cell_type": "markdown",
   "id": "80935607",
   "metadata": {},
   "source": [
    "- Based on the information that 9000 cases were reported between the years 2000 and 2002, the limited time frame provides insights specific to that period. Here are some potential insights:\n",
    "\n",
    "1. Snapshot of Car Accidents: The dataset captures a snapshot of most car accidents reported specifically between 2000 and 2002. It allows for analysis and understanding of the characteristics and factors associated with accidents during that time period.\n",
    "\n",
    "2. Temporal Comparison: By comparing the number of reported cases between 2000 and 2002, you can assess whether there were any significant changes or trends in car accidents during those years. For example, if there is a noticeable increase or decrease in accidents between the two years, it may indicate changes in driving behavior, road infrastructure, or other external factors that influenced accident rates.\n",
    "\n",
    "3. Analysis of Factors: With a specific time frame, researchers can focus on analyzing the factors contributing to car accidents during that period. This analysis can include variables such as driver age, vehicle types, road conditions, and other relevant features available in the dataset. Identifying the key factors associated with accidents during this time frame can inform targeted interventions and policies.\n",
    "\n",
    "4. Evaluation of Safety Measures: The dataset covering 2000 and 2002 allows for evaluating the effectiveness of safety measures implemented during that period. By analyzing accident data before and after the implementation of specific safety interventions, policymakers can assess whether the measures had the desired impact in reducing accidents or mitigating their severity.\n",
    "\n",
    "5. Long-Term Impact: While the dataset captures a limited time frame, it can still provide insights into the potential long-term impact of accidents occurring between 2000 and 2002. This can be especially relevant for studying factors such as long-term injuries, disabilities, or the economic and social consequences resulting from accidents during that period.\n",
    "\n",
    "- It's important to note that the insights derived from this specific time frame should be considered in the context of broader trends and analysis covering a more extensive period. Understanding the dataset's limitations and conducting additional analysis on a more comprehensive dataset can provide a more accurate and robust understanding of car accidents and their underlying factors."
   ]
  },
  {
   "cell_type": "code",
   "execution_count": 32,
   "id": "3ef3ead0",
   "metadata": {},
   "outputs": [
    {
     "data": {
      "image/png": "[encoded data removed]",
      "text/plain": [
       "<Figure size 432x288 with 1 Axes>"
      ]
     },
     "metadata": {
      "needs_background": "light"
     },
     "output_type": "display_data"
    }
   ],
   "source": [
    "# Histogram of Year of vehicle\n",
    "df['yearVeh'].hist()\n",
    "plt.xlabel('yearVeh')\n",
    "plt.ylabel('Frequency')\n",
    "plt.title('Distribution of year of vehicle')\n",
    "plt.show()"
   ]
  },
  {
   "cell_type": "markdown",
   "id": "bbb4044f",
   "metadata": {},
   "source": [
    "- The distribution of vehicle manufacturing years within the dataset, ranging from 1960 to 2000, with 80% of the values falling between 1990 and 2000, provides several potential insights:\n",
    "\n",
    "1. Age of Vehicles: The dataset predominantly includes vehicles manufactured between 1990 and 2000. This indicates that the dataset primarily focuses on car accidents involving vehicles that are relatively newer, with an average age of 10 to 20 years at the time of the accidents.\n",
    "\n",
    "2. Technological Features: The concentration of vehicles manufactured in the 1990s and early 2000s suggests that the dataset captures a period when automotive technology was advancing rapidly. This timeframe witnessed the introduction of various safety features such as airbags, anti-lock braking systems (ABS), and improved structural designs. Analyzing accidents involving vehicles from this era can provide insights into the effectiveness of these technological advancements in reducing accident severity.\n",
    "\n",
    "3. Maintenance and Wear: The distribution of vehicle manufacturing years can indirectly reflect the maintenance and wear characteristics of the vehicles involved in the accidents. Older vehicles may have higher chances of mechanical failures or worn-out safety components, potentially contributing to the severity of accidents. This information can guide policymakers in formulating regulations focused on vehicle maintenance and ensuring the safety of older vehicles still on the road.\n",
    "\n",
    "4. Recall and Safety Campaigns: The predominance of vehicles manufactured between 1990 and 2000 could indicate a period when certain vehicle models had higher incident rates or safety issues. Analyzing accidents involving specific vehicle makes and models from this time frame can help identify patterns or associations with recalls, safety campaigns, or manufacturing defects that may have contributed to the accidents. This insight can inform vehicle manufacturers, regulators, and safety organizations in addressing specific issues related to those vehicles.\n",
    "\n",
    "5. Data Limitation: It's important to recognize that the dataset's concentration on vehicles manufactured between 1990 and 2000 might limit the generalizability of the findings to current vehicles on the road. As automotive technology has evolved significantly since then, the dataset might not accurately represent the safety features and performance of modern vehicles. Care should be taken when extrapolating findings from this dataset to the current vehicle population.\n",
    "\n",
    "- These insights demonstrate the value of analyzing accidents involving vehicles from a specific manufacturing period. However, to gain a comprehensive understanding of car accidents and safety measures, it is advisable to supplement this analysis with more recent data that encompasses a broader range of vehicle manufacturing years."
   ]
  },
  {
   "cell_type": "markdown",
   "id": "eb1047fe",
   "metadata": {},
   "source": [
    "### Bivariate Analysis"
   ]
  },
  {
   "cell_type": "code",
   "execution_count": 33,
   "id": "075dc635",
   "metadata": {},
   "outputs": [
    {
     "data": {
      "image/png": "[encoded data removed]",
      "text/plain": [
       "<Figure size 432x288 with 1 Axes>"
      ]
     },
     "metadata": {
      "needs_background": "light"
     },
     "output_type": "display_data"
    }
   ],
   "source": [
    "# Bar plot of Survival by Gender\n",
    "survival_gender = df.groupby(['Survived', 'sex']).size().unstack()\n",
    "survival_gender.plot(kind='bar', stacked=True)\n",
    "plt.xlabel('Survived')\n",
    "plt.ylabel('Count')\n",
    "plt.title('Survival by Gender')\n",
    "plt.legend()\n",
    "plt.show()"
   ]
  },
  {
   "cell_type": "markdown",
   "id": "e3304129",
   "metadata": {},
   "source": [
    "- The gender distribution within the dataset, with 5169 females and 6048 males, and the corresponding survival information (464 females and 716 males did not survive) provide some potential business insights:\n",
    "\n",
    "1. Gender Disparity in Survival: The data shows that a higher number of males did not survive car crashes compared to females. This insight indicates a potential gender disparity in survival rates and suggests the need for further investigation into the underlying reasons. Understanding the factors contributing to the higher fatality rate among males can help in developing targeted interventions and safety measures to reduce the gender gap in survival outcomes.\n",
    "\n",
    "2. Impact of Safety Measures: The dataset allows for analyzing the effectiveness of safety measures based on gender. By comparing survival rates among males and females, it is possible to evaluate the impact of safety features, such as seatbelts or airbags, in mitigating injuries and improving survival chances. This analysis can guide car manufacturers and policymakers in designing and implementing gender-inclusive safety features that cater to the specific needs and vulnerabilities of both males and females.\n",
    "\n",
    "3. Driver Behavior and Risk-Taking: The difference in survival rates between males and females may also reflect variations in driver behavior and risk-taking tendencies. Males, on average, may engage in riskier driving behaviors, such as higher speeds or more aggressive driving, which can increase the likelihood of severe accidents. This insight highlights the importance of promoting safe driving practices and awareness campaigns targeting risky driving behaviors that disproportionately affect males.\n",
    "\n",
    "4. Gender-Specific Education and Awareness: The disparity in survival rates based on gender underscores the significance of gender-specific education and awareness programs. Tailoring educational initiatives to address the unique risks and challenges faced by both males and females can enhance road safety outcomes. These programs can include educating males about responsible driving habits and promoting awareness among females regarding self-protection measures during accidents.\n",
    "\n",
    "5. Improving Vehicle Safety: Analyzing the survival outcomes by gender can inform car manufacturers about the need to develop vehicles that provide equal protection to both males and females. This may involve considering physiological and anatomical differences when designing safety features or conducting gender-specific crash tests to ensure that safety measures are effective for all occupants.\n",
    "\n",
    "- It's important to note that these insights are based on the available gender and survival information within the dataset. Additional analysis considering other relevant factors, such as age, crash severity, or other demographic variables, would provide a more comprehensive understanding of the gender disparities and facilitate more targeted interventions and policies."
   ]
  },
  {
   "cell_type": "code",
   "execution_count": 46,
   "id": "ee8c12ac",
   "metadata": {},
   "outputs": [
    {
     "data": {
      "image/png": "[encoded data removed]",
      "text/plain": [
       "<Figure size 432x288 with 1 Axes>"
      ]
     },
     "metadata": {
      "needs_background": "light"
     },
     "output_type": "display_data"
    }
   ],
   "source": [
    "# Bar plot of Survival by Gender\n",
    "survival_gender = df.groupby(['Survived', 'dvcat']).size().unstack()\n",
    "survival_gender.plot(kind='bar', stacked=True)\n",
    "plt.xlabel('Survived')\n",
    "plt.ylabel('Count')\n",
    "plt.title('Survival by Estimated impact speeds')\n",
    "plt.legend()\n",
    "plt.show()"
   ]
  },
  {
   "cell_type": "markdown",
   "id": "21e8bbe5",
   "metadata": {},
   "source": [
    "- The distribution of estimated impact speeds within the dataset, with varying levels and corresponding survival information, provides some potential business insights:\n",
    "\n",
    "1. Impact Speeds and Severity: The distribution of impact speeds across different ranges indicates the severity of car crashes. The higher the speed range, the greater the potential for severe accidents and adverse outcomes. This insight underscores the importance of speed reduction measures and enforcement to mitigate the severity of accidents and improve survival chances.\n",
    "\n",
    "2. High Survival Rates at Lower Speeds: The data shows that the number of non-survivors decreases as impact speeds decrease. This suggests that accidents occurring at lower speeds (1-9 km/h) have a higher likelihood of survival. This insight emphasizes the significance of speed limits, road safety regulations, and initiatives promoting responsible driving behavior to prevent high-speed collisions and minimize the risk of fatalities.\n",
    "\n",
    "3. Focus on Intermediate Speed Ranges: The levels with the highest number of cases (10-24 km/h and 25-39 km/h) also exhibit a relatively higher number of non-survivors. This indicates the importance of addressing safety measures for accidents occurring at these intermediate speed ranges. Efforts could include improving vehicle crashworthiness, enhancing occupant protection systems, and promoting awareness campaigns on the risks associated with moderate-speed collisions.\n",
    "\n",
    "4. Safety Measures for High-Speed Collisions: Although the number of cases in the highest speed range (55+ km/h) is comparatively lower, the survival rate remains a concern. This suggests the need for stricter enforcement of speed limits and more robust safety measures to mitigate the severity of high-speed collisions. Interventions such as advanced driver assistance systems (ADAS) and crash avoidance technologies can play a vital role in preventing accidents or minimizing their impact at high speeds.\n",
    "\n",
    "5. Continuous Improvement: The distribution of non-survivors across different impact speed ranges can guide ongoing efforts to improve vehicle safety standards and design. By analyzing accidents at various speeds, car manufacturers and policymakers can identify areas for improvement, such as crash energy management systems, advanced restraint systems, and structural enhancements to increase occupant protection and survival rates.\n",
    "\n",
    "- These insights highlight the significance of impact speeds in determining accident severity and survival outcomes. They underscore the importance of implementing speed control measures, promoting responsible driving behavior, and continually advancing vehicle safety technologies to reduce the risk of fatal accidents."
   ]
  },
  {
   "cell_type": "markdown",
   "id": "08316dad",
   "metadata": {},
   "source": [
    "### Exploratory Data Analysis"
   ]
  },
  {
   "cell_type": "code",
   "execution_count": 58,
   "id": "440954d6",
   "metadata": {},
   "outputs": [
    {
     "data": {
      "image/png": "[encoded data removed]",
      "text/plain": [
       "<Figure size 720x576 with 2 Axes>"
      ]
     },
     "metadata": {
      "needs_background": "light"
     },
     "output_type": "display_data"
    }
   ],
   "source": [
    "#Correlation Heatmap\n",
    "correlation = df.corr()\n",
    "plt.figure(figsize=(10, 8))\n",
    "sns.heatmap(correlation, annot=True, cmap='coolwarm')\n",
    "plt.title('Correlation Heatmap')\n",
    "plt.show()"
   ]
  },
  {
   "cell_type": "markdown",
   "id": "2f66f364",
   "metadata": {},
   "source": [
    "- The provided correlation matrix shows the correlations between different features in the dataset. Here are some potential insights based on the correlations:\n",
    "\n",
    "1. Frontal Impact and Deployment: There is a positive correlation of 0.26 between the \"frontal\" feature (indicating a frontal impact) and the \"deploy\" feature (indicating airbag deployment). This suggests that frontal impacts are more likely to result in airbag deployment. This insight highlights the effectiveness of airbag systems in mitigating the impact of frontal collisions.\n",
    "\n",
    "2. Injury Severity and Year of Accident: There is a negative correlation of -0.30 between the \"injSeverity\" feature (indicating injury severity) and the \"yearacc\" feature (indicating the year of the accident). This suggests that over time, injury severity may have decreased. This could be attributed to advancements in vehicle safety technology, improved emergency response systems, or enhanced medical care.\n",
    "\n",
    "3. Vehicle Year and Deployment: The \"yearVeh\" feature (indicating the year of the vehicle model) has a positive correlation of 0.45 with the \"deploy\" feature. This implies that more recent vehicle models are more likely to have airbag deployment systems. This finding indicates the importance of vehicle advancements in safety features over time.\n",
    "\n",
    "4. Weight and Injury Severity: There is a negative correlation of -0.22 between the \"weight\" feature (observation weight) and the \"injSeverity\" feature. This suggests that heavier vehicles may be associated with lower injury severity. The weight of a vehicle can influence its crashworthiness and ability to absorb impact forces, which can contribute to reducing the severity of injuries.\n",
    "\n",
    "5. Year of Vehicle and Year of Accident: The \"yearVeh\" feature has a positive correlation of 0.25 with the \"yearacc\" feature. This indicates that the year of the vehicle model is positively associated with the year of the accident. It implies that more recent accidents tend to involve more recent vehicle models. This information can be useful for understanding the dynamics of car accidents over time and the changing characteristics of vehicles involved in accidents.\n",
    "\n",
    "- It's important to note that correlation does not imply causation, and further analysis is required to determine the underlying relationships between these features. Additionally, the correlation matrix does not include all the features from the dataset, so there may be additional insights to explore by examining the correlations with other variables."
   ]
  },
  {
   "cell_type": "markdown",
   "id": "caf9bd49",
   "metadata": {},
   "source": [
    "### Encode the data (having string values) for Modelling"
   ]
  },
  {
   "cell_type": "code",
   "execution_count": 62,
   "id": "311e26be",
   "metadata": {},
   "outputs": [
    {
     "name": "stdout",
     "output_type": "stream",
     "text": [
      "<class 'pandas.core.frame.DataFrame'>\n",
      "RangeIndex: 11217 entries, 0 to 11216\n",
      "Data columns (total 15 columns):\n",
      " #   Column       Non-Null Count  Dtype  \n",
      "---  ------       --------------  -----  \n",
      " 0   dvcat        11217 non-null  object \n",
      " 1   weight       11217 non-null  float64\n",
      " 2   Survived     11217 non-null  object \n",
      " 3   airbag       11217 non-null  object \n",
      " 4   seatbelt     11217 non-null  object \n",
      " 5   frontal      11217 non-null  int64  \n",
      " 6   sex          11217 non-null  object \n",
      " 7   ageOFocc     11217 non-null  int64  \n",
      " 8   yearacc      11217 non-null  int64  \n",
      " 9   yearVeh      11217 non-null  int64  \n",
      " 10  abcat        11217 non-null  object \n",
      " 11  occRole      11217 non-null  object \n",
      " 12  deploy       11217 non-null  int64  \n",
      " 13  injSeverity  11140 non-null  float64\n",
      " 14  caseid       11217 non-null  object \n",
      "dtypes: float64(2), int64(5), object(8)\n",
      "memory usage: 1.3+ MB\n"
     ]
    }
   ],
   "source": [
    "df.info()"
   ]
  },
  {
   "cell_type": "markdown",
   "id": "70fef1bc",
   "metadata": {},
   "source": [
    "### Impute Nan values"
   ]
  },
  {
   "cell_type": "code",
   "execution_count": null,
   "id": "575230ad",
   "metadata": {},
   "outputs": [],
   "source": []
  },
  {
   "cell_type": "code",
   "execution_count": 98,
   "id": "016b00b0",
   "metadata": {},
   "outputs": [],
   "source": [
    "# Perform one-hot encoding on categorical variables\n",
    "df_encoded = pd.get_dummies(df, columns=['dvcat', 'airbag','seatbelt', 'sex', 'abcat', 'occRole'])"
   ]
  },
  {
   "cell_type": "code",
   "execution_count": 99,
   "id": "bd631f50",
   "metadata": {},
   "outputs": [],
   "source": [
    "### Drop case id column"
   ]
  },
  {
   "cell_type": "code",
   "execution_count": 100,
   "id": "8c56c047",
   "metadata": {},
   "outputs": [],
   "source": [
    "df_encoded.drop(\"caseid\",axis=1,inplace=True)"
   ]
  },
  {
   "cell_type": "code",
   "execution_count": 101,
   "id": "ce2ef96e",
   "metadata": {},
   "outputs": [],
   "source": [
    "from sklearn.preprocessing import LabelEncoder\n",
    "\n",
    "# Create an instance of LabelEncoder\n",
    "le = LabelEncoder()\n",
    "\n",
    "# Label encode the 'Survived' column\n",
    "df_encoded['Survived'] = le.fit_transform(df_encoded['Survived'])"
   ]
  },
  {
   "cell_type": "code",
   "execution_count": 102,
   "id": "4552c1aa",
   "metadata": {},
   "outputs": [
    {
     "data": {
      "text/html": [
       "<div>\n",
       "<style scoped>\n",
       "    .dataframe tbody tr th:only-of-type {\n",
       "        vertical-align: middle;\n",
       "    }\n",
       "\n",
       "    .dataframe tbody tr th {\n",
       "        vertical-align: top;\n",
       "    }\n",
       "\n",
       "    .dataframe thead th {\n",
       "        text-align: right;\n",
       "    }\n",
       "</style>\n",
       "<table border=\"1\" class=\"dataframe\">\n",
       "  <thead>\n",
       "    <tr style=\"text-align: right;\">\n",
       "      <th></th>\n",
       "      <th>weight</th>\n",
       "      <th>Survived</th>\n",
       "      <th>frontal</th>\n",
       "      <th>ageOFocc</th>\n",
       "      <th>yearacc</th>\n",
       "      <th>yearVeh</th>\n",
       "      <th>deploy</th>\n",
       "      <th>injSeverity</th>\n",
       "      <th>dvcat_1-9km/h</th>\n",
       "      <th>dvcat_10-24</th>\n",
       "      <th>...</th>\n",
       "      <th>airbag_none</th>\n",
       "      <th>seatbelt_belted</th>\n",
       "      <th>seatbelt_none</th>\n",
       "      <th>sex_f</th>\n",
       "      <th>sex_m</th>\n",
       "      <th>abcat_deploy</th>\n",
       "      <th>abcat_nodeploy</th>\n",
       "      <th>abcat_unavail</th>\n",
       "      <th>occRole_driver</th>\n",
       "      <th>occRole_pass</th>\n",
       "    </tr>\n",
       "  </thead>\n",
       "  <tbody>\n",
       "    <tr>\n",
       "      <th>0</th>\n",
       "      <td>27.078</td>\n",
       "      <td>0</td>\n",
       "      <td>1</td>\n",
       "      <td>32</td>\n",
       "      <td>1997</td>\n",
       "      <td>1987</td>\n",
       "      <td>0</td>\n",
       "      <td>4.0</td>\n",
       "      <td>0</td>\n",
       "      <td>0</td>\n",
       "      <td>...</td>\n",
       "      <td>1</td>\n",
       "      <td>0</td>\n",
       "      <td>1</td>\n",
       "      <td>0</td>\n",
       "      <td>1</td>\n",
       "      <td>0</td>\n",
       "      <td>0</td>\n",
       "      <td>1</td>\n",
       "      <td>1</td>\n",
       "      <td>0</td>\n",
       "    </tr>\n",
       "    <tr>\n",
       "      <th>1</th>\n",
       "      <td>89.627</td>\n",
       "      <td>0</td>\n",
       "      <td>0</td>\n",
       "      <td>54</td>\n",
       "      <td>1997</td>\n",
       "      <td>1994</td>\n",
       "      <td>0</td>\n",
       "      <td>4.0</td>\n",
       "      <td>0</td>\n",
       "      <td>0</td>\n",
       "      <td>...</td>\n",
       "      <td>0</td>\n",
       "      <td>1</td>\n",
       "      <td>0</td>\n",
       "      <td>1</td>\n",
       "      <td>0</td>\n",
       "      <td>0</td>\n",
       "      <td>1</td>\n",
       "      <td>0</td>\n",
       "      <td>1</td>\n",
       "      <td>0</td>\n",
       "    </tr>\n",
       "    <tr>\n",
       "      <th>2</th>\n",
       "      <td>27.078</td>\n",
       "      <td>0</td>\n",
       "      <td>1</td>\n",
       "      <td>67</td>\n",
       "      <td>1997</td>\n",
       "      <td>1992</td>\n",
       "      <td>0</td>\n",
       "      <td>4.0</td>\n",
       "      <td>0</td>\n",
       "      <td>0</td>\n",
       "      <td>...</td>\n",
       "      <td>1</td>\n",
       "      <td>1</td>\n",
       "      <td>0</td>\n",
       "      <td>0</td>\n",
       "      <td>1</td>\n",
       "      <td>0</td>\n",
       "      <td>0</td>\n",
       "      <td>1</td>\n",
       "      <td>1</td>\n",
       "      <td>0</td>\n",
       "    </tr>\n",
       "    <tr>\n",
       "      <th>3</th>\n",
       "      <td>27.078</td>\n",
       "      <td>0</td>\n",
       "      <td>1</td>\n",
       "      <td>64</td>\n",
       "      <td>1997</td>\n",
       "      <td>1992</td>\n",
       "      <td>0</td>\n",
       "      <td>4.0</td>\n",
       "      <td>0</td>\n",
       "      <td>0</td>\n",
       "      <td>...</td>\n",
       "      <td>1</td>\n",
       "      <td>1</td>\n",
       "      <td>0</td>\n",
       "      <td>1</td>\n",
       "      <td>0</td>\n",
       "      <td>0</td>\n",
       "      <td>0</td>\n",
       "      <td>1</td>\n",
       "      <td>0</td>\n",
       "      <td>1</td>\n",
       "    </tr>\n",
       "    <tr>\n",
       "      <th>4</th>\n",
       "      <td>13.374</td>\n",
       "      <td>0</td>\n",
       "      <td>1</td>\n",
       "      <td>23</td>\n",
       "      <td>1997</td>\n",
       "      <td>1986</td>\n",
       "      <td>0</td>\n",
       "      <td>4.0</td>\n",
       "      <td>0</td>\n",
       "      <td>0</td>\n",
       "      <td>...</td>\n",
       "      <td>1</td>\n",
       "      <td>0</td>\n",
       "      <td>1</td>\n",
       "      <td>0</td>\n",
       "      <td>1</td>\n",
       "      <td>0</td>\n",
       "      <td>0</td>\n",
       "      <td>1</td>\n",
       "      <td>1</td>\n",
       "      <td>0</td>\n",
       "    </tr>\n",
       "    <tr>\n",
       "      <th>...</th>\n",
       "      <td>...</td>\n",
       "      <td>...</td>\n",
       "      <td>...</td>\n",
       "      <td>...</td>\n",
       "      <td>...</td>\n",
       "      <td>...</td>\n",
       "      <td>...</td>\n",
       "      <td>...</td>\n",
       "      <td>...</td>\n",
       "      <td>...</td>\n",
       "      <td>...</td>\n",
       "      <td>...</td>\n",
       "      <td>...</td>\n",
       "      <td>...</td>\n",
       "      <td>...</td>\n",
       "      <td>...</td>\n",
       "      <td>...</td>\n",
       "      <td>...</td>\n",
       "      <td>...</td>\n",
       "      <td>...</td>\n",
       "      <td>...</td>\n",
       "    </tr>\n",
       "    <tr>\n",
       "      <th>11212</th>\n",
       "      <td>3179.688</td>\n",
       "      <td>1</td>\n",
       "      <td>1</td>\n",
       "      <td>17</td>\n",
       "      <td>2002</td>\n",
       "      <td>1985</td>\n",
       "      <td>0</td>\n",
       "      <td>0.0</td>\n",
       "      <td>0</td>\n",
       "      <td>0</td>\n",
       "      <td>...</td>\n",
       "      <td>1</td>\n",
       "      <td>1</td>\n",
       "      <td>0</td>\n",
       "      <td>0</td>\n",
       "      <td>1</td>\n",
       "      <td>0</td>\n",
       "      <td>0</td>\n",
       "      <td>1</td>\n",
       "      <td>1</td>\n",
       "      <td>0</td>\n",
       "    </tr>\n",
       "    <tr>\n",
       "      <th>11213</th>\n",
       "      <td>71.228</td>\n",
       "      <td>1</td>\n",
       "      <td>1</td>\n",
       "      <td>54</td>\n",
       "      <td>2002</td>\n",
       "      <td>2002</td>\n",
       "      <td>0</td>\n",
       "      <td>2.0</td>\n",
       "      <td>0</td>\n",
       "      <td>1</td>\n",
       "      <td>...</td>\n",
       "      <td>0</td>\n",
       "      <td>1</td>\n",
       "      <td>0</td>\n",
       "      <td>0</td>\n",
       "      <td>1</td>\n",
       "      <td>0</td>\n",
       "      <td>1</td>\n",
       "      <td>0</td>\n",
       "      <td>1</td>\n",
       "      <td>0</td>\n",
       "    </tr>\n",
       "    <tr>\n",
       "      <th>11214</th>\n",
       "      <td>10.474</td>\n",
       "      <td>1</td>\n",
       "      <td>1</td>\n",
       "      <td>27</td>\n",
       "      <td>2002</td>\n",
       "      <td>1990</td>\n",
       "      <td>1</td>\n",
       "      <td>3.0</td>\n",
       "      <td>0</td>\n",
       "      <td>1</td>\n",
       "      <td>...</td>\n",
       "      <td>0</td>\n",
       "      <td>1</td>\n",
       "      <td>0</td>\n",
       "      <td>1</td>\n",
       "      <td>0</td>\n",
       "      <td>1</td>\n",
       "      <td>0</td>\n",
       "      <td>0</td>\n",
       "      <td>1</td>\n",
       "      <td>0</td>\n",
       "    </tr>\n",
       "    <tr>\n",
       "      <th>11215</th>\n",
       "      <td>10.474</td>\n",
       "      <td>1</td>\n",
       "      <td>1</td>\n",
       "      <td>18</td>\n",
       "      <td>2002</td>\n",
       "      <td>1999</td>\n",
       "      <td>1</td>\n",
       "      <td>0.0</td>\n",
       "      <td>0</td>\n",
       "      <td>0</td>\n",
       "      <td>...</td>\n",
       "      <td>0</td>\n",
       "      <td>1</td>\n",
       "      <td>0</td>\n",
       "      <td>1</td>\n",
       "      <td>0</td>\n",
       "      <td>1</td>\n",
       "      <td>0</td>\n",
       "      <td>0</td>\n",
       "      <td>1</td>\n",
       "      <td>0</td>\n",
       "    </tr>\n",
       "    <tr>\n",
       "      <th>11216</th>\n",
       "      <td>10.474</td>\n",
       "      <td>1</td>\n",
       "      <td>1</td>\n",
       "      <td>17</td>\n",
       "      <td>2002</td>\n",
       "      <td>1999</td>\n",
       "      <td>1</td>\n",
       "      <td>0.0</td>\n",
       "      <td>0</td>\n",
       "      <td>0</td>\n",
       "      <td>...</td>\n",
       "      <td>0</td>\n",
       "      <td>1</td>\n",
       "      <td>0</td>\n",
       "      <td>0</td>\n",
       "      <td>1</td>\n",
       "      <td>1</td>\n",
       "      <td>0</td>\n",
       "      <td>0</td>\n",
       "      <td>0</td>\n",
       "      <td>1</td>\n",
       "    </tr>\n",
       "  </tbody>\n",
       "</table>\n",
       "<p>11217 rows × 24 columns</p>\n",
       "</div>"
      ],
      "text/plain": [
       "         weight  Survived  frontal  ageOFocc  yearacc  yearVeh  deploy  \\\n",
       "0        27.078         0        1        32     1997     1987       0   \n",
       "1        89.627         0        0        54     1997     1994       0   \n",
       "2        27.078         0        1        67     1997     1992       0   \n",
       "3        27.078         0        1        64     1997     1992       0   \n",
       "4        13.374         0        1        23     1997     1986       0   \n",
       "...         ...       ...      ...       ...      ...      ...     ...   \n",
       "11212  3179.688         1        1        17     2002     1985       0   \n",
       "11213    71.228         1        1        54     2002     2002       0   \n",
       "11214    10.474         1        1        27     2002     1990       1   \n",
       "11215    10.474         1        1        18     2002     1999       1   \n",
       "11216    10.474         1        1        17     2002     1999       1   \n",
       "\n",
       "       injSeverity  dvcat_1-9km/h  dvcat_10-24  ...  airbag_none  \\\n",
       "0              4.0              0            0  ...            1   \n",
       "1              4.0              0            0  ...            0   \n",
       "2              4.0              0            0  ...            1   \n",
       "3              4.0              0            0  ...            1   \n",
       "4              4.0              0            0  ...            1   \n",
       "...            ...            ...          ...  ...          ...   \n",
       "11212          0.0              0            0  ...            1   \n",
       "11213          2.0              0            1  ...            0   \n",
       "11214          3.0              0            1  ...            0   \n",
       "11215          0.0              0            0  ...            0   \n",
       "11216          0.0              0            0  ...            0   \n",
       "\n",
       "       seatbelt_belted  seatbelt_none  sex_f  sex_m  abcat_deploy  \\\n",
       "0                    0              1      0      1             0   \n",
       "1                    1              0      1      0             0   \n",
       "2                    1              0      0      1             0   \n",
       "3                    1              0      1      0             0   \n",
       "4                    0              1      0      1             0   \n",
       "...                ...            ...    ...    ...           ...   \n",
       "11212                1              0      0      1             0   \n",
       "11213                1              0      0      1             0   \n",
       "11214                1              0      1      0             1   \n",
       "11215                1              0      1      0             1   \n",
       "11216                1              0      0      1             1   \n",
       "\n",
       "       abcat_nodeploy  abcat_unavail  occRole_driver  occRole_pass  \n",
       "0                   0              1               1             0  \n",
       "1                   1              0               1             0  \n",
       "2                   0              1               1             0  \n",
       "3                   0              1               0             1  \n",
       "4                   0              1               1             0  \n",
       "...               ...            ...             ...           ...  \n",
       "11212               0              1               1             0  \n",
       "11213               1              0               1             0  \n",
       "11214               0              0               1             0  \n",
       "11215               0              0               1             0  \n",
       "11216               0              0               0             1  \n",
       "\n",
       "[11217 rows x 24 columns]"
      ]
     },
     "execution_count": 102,
     "metadata": {},
     "output_type": "execute_result"
    }
   ],
   "source": [
    "df_encoded"
   ]
  },
  {
   "cell_type": "markdown",
   "id": "055da01c",
   "metadata": {},
   "source": [
    "-  Data Split: Split the data into train and test (70:30)"
   ]
  },
  {
   "cell_type": "code",
   "execution_count": 103,
   "id": "45bde4cf",
   "metadata": {},
   "outputs": [],
   "source": [
    "### Impute Nan values"
   ]
  },
  {
   "cell_type": "code",
   "execution_count": 104,
   "id": "c9f7d778",
   "metadata": {},
   "outputs": [],
   "source": [
    "# Median imputation\n",
    "median_value = df_encoded['injSeverity'].median()\n",
    "df_encoded['injSeverity'] = df_encoded['injSeverity'].fillna(median_value)"
   ]
  },
  {
   "cell_type": "code",
   "execution_count": 105,
   "id": "adfd7006",
   "metadata": {},
   "outputs": [],
   "source": [
    "from sklearn.model_selection import train_test_split\n",
    "\n",
    "# Splitting the encoded DataFrame into features and target variable\n",
    "X = df_encoded.drop('Survived', axis=1)  # Features\n",
    "y = df_encoded['Survived']  # Target variable\n",
    "\n",
    "# Splitting the data into training and testing sets\n",
    "X_train, X_test, y_train, y_test = train_test_split(X, y, test_size=0.3, random_state=123)"
   ]
  },
  {
   "cell_type": "markdown",
   "id": "0e35926a",
   "metadata": {},
   "source": [
    "### Logestic Regression Model"
   ]
  },
  {
   "cell_type": "code",
   "execution_count": 106,
   "id": "849a1ec5",
   "metadata": {},
   "outputs": [],
   "source": [
    "from sklearn.linear_model import LogisticRegression\n",
    "\n",
    "# Create a logistic regression model\n",
    "logreg = LogisticRegression()\n",
    "\n",
    "# Train the model on the training data\n",
    "logreg.fit(X_train, y_train)\n",
    "\n",
    "# Predict on the testing data\n",
    "y_pred = logreg.predict(X_test)"
   ]
  },
  {
   "cell_type": "markdown",
   "id": "7c0a7d2b",
   "metadata": {},
   "source": [
    "### LDA Model"
   ]
  },
  {
   "cell_type": "code",
   "execution_count": 107,
   "id": "ee4a3191",
   "metadata": {},
   "outputs": [],
   "source": [
    "from sklearn.discriminant_analysis import LinearDiscriminantAnalysis\n",
    "\n",
    "# Create an LDA model\n",
    "lda = LinearDiscriminantAnalysis()\n",
    "\n",
    "# Train the model on the training data\n",
    "lda.fit(X_train, y_train)\n",
    "\n",
    "# Predict on the testing data\n",
    "y_pred = lda.predict(X_test)"
   ]
  },
  {
   "cell_type": "markdown",
   "id": "383080c8",
   "metadata": {},
   "source": [
    "### Accuracy"
   ]
  },
  {
   "cell_type": "code",
   "execution_count": 108,
   "id": "1817bba0",
   "metadata": {},
   "outputs": [
    {
     "name": "stdout",
     "output_type": "stream",
     "text": [
      "train_accuracy_logreg : 0.98\n",
      "train_accuracy_lda : 0.96\n",
      "test_accuracy_logreg : 0.98\n",
      "test_accuracy_lda : 0.95\n"
     ]
    }
   ],
   "source": [
    "from sklearn.metrics import accuracy_score\n",
    "\n",
    "# Accuracy on train set\n",
    "train_accuracy_logreg = accuracy_score(y_train, logreg.predict(X_train))\n",
    "train_accuracy_lda = accuracy_score(y_train, lda.predict(X_train))\n",
    "\n",
    "# Accuracy on test set\n",
    "test_accuracy_logreg = accuracy_score(y_test, logreg.predict(X_test))\n",
    "test_accuracy_lda = accuracy_score(y_test, lda.predict(X_test))\n",
    "\n",
    "print(\"train_accuracy_logreg :\", train_accuracy_logreg.round(2))\n",
    "print(\"train_accuracy_lda :\", train_accuracy_lda.round(2))\n",
    "print(\"test_accuracy_logreg :\", test_accuracy_logreg.round(2))\n",
    "print(\"test_accuracy_lda :\", test_accuracy_lda.round(2))"
   ]
  },
  {
   "cell_type": "markdown",
   "id": "948e568a",
   "metadata": {},
   "source": [
    "- Based on the provided accuracy scores for the logistic regression model and linear discriminant analysis (LDA) model on the train and test sets, here are some possible inferences:\n",
    "\n",
    "1. Model Performance:\n",
    "   - Logistic Regression: The logistic regression model achieves high accuracy on both the train and test sets, with accuracies of 0.98 for both.\n",
    "   - Linear Discriminant Analysis: The LDA model also performs well, but slightly lower compared to logistic regression. It achieves an accuracy of 0.96 on the train set and 0.95 on the test set.\n",
    "\n",
    "2. Generalization:\n",
    "   - Both models demonstrate good generalization performance, as the accuracy scores on the test set are close to or on par with the accuracy scores on the train set.\n",
    "   - The small difference in accuracy between the train and test sets suggests that neither model is significantly overfitting the training data.\n",
    "\n",
    "3. Comparative Performance:\n",
    "   - Logistic Regression vs. LDA: The logistic regression model outperforms the LDA model in terms of accuracy on both the train and test sets.\n",
    "   - Logistic regression achieves a slightly higher accuracy than LDA, indicating that it may have a better ability to discriminate between the positive and negative classes in the data.\n",
    "\n",
    "4. Consideration of Other Metrics:\n",
    "   - While accuracy is an essential metric, it is advisable to consider other metrics such as precision, recall, and the ROC AUC score to obtain a more comprehensive evaluation of model performance.\n",
    "   - The ROC AUC score, as well as the ROC curves, can provide insights into the models' ability to distinguish between the positive and negative classes, which may further differentiate their performance.\n",
    "\n",
    "- It's important to note that these inferences are based solely on the provided accuracy scores and may not capture the complete performance picture. It's recommended to further evaluate the models using additional metrics and conduct a thorough analysis to make more robust conclusions about their effectiveness in the given context."
   ]
  },
  {
   "cell_type": "markdown",
   "id": "2deae1d5",
   "metadata": {},
   "source": [
    "### Confusion Matrix"
   ]
  },
  {
   "cell_type": "code",
   "execution_count": 109,
   "id": "73cd2c84",
   "metadata": {},
   "outputs": [
    {
     "data": {
      "text/plain": [
       "<Figure size 576x432 with 0 Axes>"
      ]
     },
     "metadata": {},
     "output_type": "display_data"
    },
    {
     "data": {
      "image/png": "[encoded data removed]",
      "text/plain": [
       "<Figure size 432x288 with 2 Axes>"
      ]
     },
     "metadata": {
      "needs_background": "light"
     },
     "output_type": "display_data"
    },
    {
     "data": {
      "text/plain": [
       "<Figure size 576x432 with 0 Axes>"
      ]
     },
     "metadata": {},
     "output_type": "display_data"
    },
    {
     "data": {
      "image/png": "[encoded data removed]",
      "text/plain": [
       "<Figure size 432x288 with 2 Axes>"
      ]
     },
     "metadata": {
      "needs_background": "light"
     },
     "output_type": "display_data"
    }
   ],
   "source": [
    "from sklearn.metrics import plot_confusion_matrix\n",
    "import matplotlib.pyplot as plt\n",
    "\n",
    "# Plot confusion matrix for logistic regression model\n",
    "plt.figure(figsize=(8, 6))\n",
    "plot_confusion_matrix(logreg, X_test, y_test, display_labels=['Survived', 'Not Survived'], cmap=plt.cm.Blues)\n",
    "plt.title('Confusion Matrix - Logistic Regression')\n",
    "plt.show()\n",
    "\n",
    "# Plot confusion matrix for LDA model\n",
    "plt.figure(figsize=(8, 6))\n",
    "plot_confusion_matrix(lda, X_test, y_test, display_labels=['Survived', 'Not Survived'], cmap=plt.cm.Blues)\n",
    "plt.title('Confusion Matrix - Linear Discriminant Analysis')\n",
    "plt.show()"
   ]
  },
  {
   "cell_type": "code",
   "execution_count": 110,
   "id": "f24573a9",
   "metadata": {},
   "outputs": [
    {
     "name": "stdout",
     "output_type": "stream",
     "text": [
      "Logistic Regression:\n",
      "True Positive Rate (TPR): 0.995\n",
      "False Positive Rate (FPR): 0.1183\n",
      "True Negative Rate (TNR): 0.8817\n",
      "False Negative Rate (FNR): 0.005\n",
      "\n",
      "Linear Discriminant Analysis (LDA):\n",
      "True Positive Rate (TPR): 0.9827\n",
      "False Positive Rate (FPR): 0.3014\n",
      "True Negative Rate (TNR): 0.6986\n",
      "False Negative Rate (FNR): 0.0173\n"
     ]
    }
   ],
   "source": [
    "from sklearn.metrics import confusion_matrix\n",
    "\n",
    "# Get the confusion matrix for logistic regression model\n",
    "cm_logreg = confusion_matrix(y_test, logreg.predict(X_test))\n",
    "\n",
    "# Calculate true positive, false positive, true negative, and false negative rates for logistic regression\n",
    "tn_logreg, fp_logreg, fn_logreg, tp_logreg = cm_logreg.ravel()\n",
    "tpr_logreg = tp_logreg / (tp_logreg + fn_logreg)\n",
    "fpr_logreg = fp_logreg / (fp_logreg + tn_logreg)\n",
    "tnr_logreg = tn_logreg / (tn_logreg + fp_logreg)\n",
    "fnr_logreg = fn_logreg / (fn_logreg + tp_logreg)\n",
    "\n",
    "# Get the confusion matrix for LDA model\n",
    "cm_lda = confusion_matrix(y_test, lda.predict(X_test))\n",
    "\n",
    "# Calculate true positive, false positive, true negative, and false negative rates for LDA\n",
    "tn_lda, fp_lda, fn_lda, tp_lda = cm_lda.ravel()\n",
    "tpr_lda = tp_lda / (tp_lda + fn_lda)\n",
    "fpr_lda = fp_lda / (fp_lda + tn_lda)\n",
    "tnr_lda = tn_lda / (tn_lda + fp_lda)\n",
    "fnr_lda = fn_lda / (fn_lda + tp_lda)\n",
    "\n",
    "# Print the rates for logistic regression\n",
    "print(\"Logistic Regression:\")\n",
    "print(\"True Positive Rate (TPR):\", tpr_logreg.round(4))\n",
    "print(\"False Positive Rate (FPR):\", fpr_logreg.round(4))\n",
    "print(\"True Negative Rate (TNR):\", tnr_logreg.round(4))\n",
    "print(\"False Negative Rate (FNR):\", fnr_logreg.round(4))\n",
    "print()\n",
    "\n",
    "# Print the rates for LDA\n",
    "print(\"Linear Discriminant Analysis (LDA):\")\n",
    "print(\"True Positive Rate (TPR):\", tpr_lda.round(4))\n",
    "print(\"False Positive Rate (FPR):\", fpr_lda.round(4))\n",
    "print(\"True Negative Rate (TNR):\", tnr_lda.round(4))\n",
    "print(\"False Negative Rate (FNR):\", fnr_lda.round(4))\n"
   ]
  },
  {
   "cell_type": "markdown",
   "id": "ab216a16",
   "metadata": {},
   "source": [
    "- Based on the confusion matrix output, Here are some inferences based on the calculated rates:\n",
    "\n",
    "1. True Positive Rate (TPR):\n",
    "   - Logistic Regression: The logistic regression model has a high TPR of 0.995, indicating that it correctly predicts the \"Survived\" class with a high accuracy.\n",
    "   - Linear Discriminant Analysis: The LDA model also performs well with a TPR of 0.9827, indicating a high rate of correctly predicting the \"Survived\" class.\n",
    "\n",
    "2. False Positive Rate (FPR):\n",
    "   - Logistic Regression: The logistic regression model has a relatively low FPR of 0.1183, suggesting that it has a good ability to avoid false alarms or incorrectly predicting the \"Not Survived\" class.\n",
    "   - Linear Discriminant Analysis: The LDA model has a higher FPR of 0.3014, indicating a higher tendency to falsely predict the \"Not Survived\" class.\n",
    "\n",
    "3. True Negative Rate (TNR):\n",
    "   - Logistic Regression: The logistic regression model has a TNR of 0.8817, indicating a high rate of correctly predicting the \"Not Survived\" class.\n",
    "   - Linear Discriminant Analysis: The LDA model has a lower TNR of 0.6986, suggesting a lower rate of correctly predicting the \"Not Survived\" class.\n",
    "\n",
    "4. False Negative Rate (FNR):\n",
    "   - Logistic Regression: The logistic regression model has a very low FNR of 0.005, implying a low rate of incorrectly predicting the \"Survived\" class.\n",
    "   - Linear Discriminant Analysis: The LDA model also has a relatively low FNR of 0.0173, indicating a good ability to avoid falsely predicting the \"Survived\" class.\n",
    "\n",
    "- Based on these rates, the logistic regression model generally performs better than the LDA model in terms of accurately predicting both the \"Survived\" and \"Not Survived\" classes. The logistic regression model exhibits a higher TPR, lower FPR, higher TNR, and lower FNR compared to the LDA model."
   ]
  },
  {
   "cell_type": "code",
   "execution_count": null,
   "id": "0f6df0ec",
   "metadata": {},
   "outputs": [],
   "source": []
  },
  {
   "cell_type": "code",
   "execution_count": 111,
   "id": "fdfacbf8",
   "metadata": {},
   "outputs": [
    {
     "data": {
      "image/png": "[encoded data removed]",
      "text/plain": [
       "<Figure size 576x432 with 1 Axes>"
      ]
     },
     "metadata": {
      "needs_background": "light"
     },
     "output_type": "display_data"
    }
   ],
   "source": [
    "from sklearn.metrics import roc_curve, roc_auc_score\n",
    "import matplotlib.pyplot as plt\n",
    "\n",
    "# ROC curve for train set\n",
    "train_probs_logreg = logreg.predict_proba(X_train)[:, 1]\n",
    "train_fpr_logreg, train_tpr_logreg, _ = roc_curve(y_train, train_probs_logreg)\n",
    "train_auc_logreg = roc_auc_score(y_train, train_probs_logreg)\n",
    "\n",
    "train_probs_lda = lda.predict_proba(X_train)[:, 1]\n",
    "train_fpr_lda, train_tpr_lda, _ = roc_curve(y_train, train_probs_lda)\n",
    "train_auc_lda = roc_auc_score(y_train, train_probs_lda)\n",
    "\n",
    "# ROC curve for test set\n",
    "test_probs_logreg = logreg.predict_proba(X_test)[:, 1]\n",
    "test_fpr_logreg, test_tpr_logreg, _ = roc_curve(y_test, test_probs_logreg)\n",
    "test_auc_logreg = roc_auc_score(y_test, test_probs_logreg)\n",
    "\n",
    "test_probs_lda = lda.predict_proba(X_test)[:, 1]\n",
    "test_fpr_lda, test_tpr_lda, _ = roc_curve(y_test, test_probs_lda)\n",
    "test_auc_lda = roc_auc_score(y_test, test_probs_lda)\n",
    "\n",
    "# Plot ROC curve\n",
    "plt.figure(figsize=(8, 6))\n",
    "plt.plot(train_fpr_logreg, train_tpr_logreg, label='Logistic Regression (Train AUC = {:.2f})'.format(train_auc_logreg))\n",
    "plt.plot(test_fpr_logreg, test_tpr_logreg, label='Logistic Regression (Test AUC = {:.2f})'.format(test_auc_logreg))\n",
    "plt.plot(train_fpr_lda, train_tpr_lda, label='Linear Discriminant Analysis (Train AUC = {:.2f})'.format(train_auc_lda))\n",
    "plt.plot(test_fpr_lda, test_tpr_lda, label='Linear Discriminant Analysis (Test AUC = {:.2f})'.format(test_auc_lda))\n",
    "plt.plot([0, 1], [0, 1], 'k--')\n",
    "plt.xlabel('False Positive Rate')\n",
    "plt.ylabel('True Positive Rate')\n",
    "plt.title('Receiver Operating Characteristic (ROC) Curve')\n",
    "plt.legend()\n",
    "plt.show()"
   ]
  },
  {
   "cell_type": "markdown",
   "id": "8dee48f9",
   "metadata": {},
   "source": [
    "- Based on the  AUC scores for the logistic regression and linear discriminant analysis (LDA) models:\n",
    "\n",
    "1. Logistic Regression:\n",
    "   - Train AUC: 0.99\n",
    "   - Test AUC: 0.98\n",
    "\n",
    "2. LDA:\n",
    "   - Train AUC: 0.97\n",
    "   - Test AUC: 0.97\n",
    "\n",
    "- Here are some potential business inferences:\n",
    "\n",
    "1. Discriminative Power:\n",
    "   - Logistic Regression: The logistic regression model demonstrates strong discriminative power in both the train and test sets, as indicated by high AUC scores of 0.99 and 0.98, respectively.\n",
    "   - LDA: The LDA model also exhibits good discriminative power with AUC scores of 0.97 for both the train and test sets.\n",
    "\n",
    "2. Overfitting:\n",
    "   - Logistic Regression: The logistic regression model shows consistent performance between the train and test sets, with a slightly higher AUC score in the train set. This suggests that the model generalizes well and does not appear to be overfitting the training data.\n",
    "   - LDA: Similarly, the LDA model demonstrates comparable AUC scores between the train and test sets, indicating a reasonable level of generalization without significant overfitting.\n",
    "\n",
    "3. Comparative Performance:\n",
    "   - Logistic Regression vs. LDA: In terms of AUC scores, the logistic regression model performs slightly better than the LDA model in both the train and test sets.\n",
    "   - However, the difference in AUC scores between the two models is relatively small, suggesting that both models have reasonable discriminatory capabilities.\n",
    "\n",
    "4. Model Selection:\n",
    "   - Based on the AUC scores alone, the logistic regression model may be preferred over LDA due to its slightly higher AUC scores."
   ]
  },
  {
   "cell_type": "code",
   "execution_count": null,
   "id": "f9cf4984",
   "metadata": {},
   "outputs": [],
   "source": []
  }
 ],
 "metadata": {
  "kernelspec": {
   "display_name": "Python 3 (ipykernel)",
   "language": "python",
   "name": "python3"
  },
  "language_info": {
   "codemirror_mode": {
    "name": "ipython",
    "version": 3
   },
   "file_extension": ".py",
   "mimetype": "text/x-python",
   "name": "python",
   "nbconvert_exporter": "python",
   "pygments_lexer": "ipython3",
   "version": "3.9.12"
  }
 },
 "nbformat": 4,
 "nbformat_minor": 5
}
